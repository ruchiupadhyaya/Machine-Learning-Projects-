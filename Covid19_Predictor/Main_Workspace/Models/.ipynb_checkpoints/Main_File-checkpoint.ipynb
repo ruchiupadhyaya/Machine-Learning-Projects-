{
 "cells": [
  {
   "cell_type": "markdown",
   "id": "naughty-advancement",
   "metadata": {},
   "source": [
    "## Imports"
   ]
  },
  {
   "cell_type": "code",
   "execution_count": null,
   "id": "central-comparison",
   "metadata": {},
   "outputs": [],
   "source": [
    "import pandas\n",
    "import numpy\n",
    "import matplotlib.pyplot as plt\n",
    "from pandas.plotting import scatter_matrix\n",
    "import mysql.connector\n",
    "from sklearn.linear_model import LinearRegression\n",
    "from sklearn.metrics import mean_squared_error,mean_absolute_error\n",
    "import joblib\n",
    "import datetime\n",
    "%matplotlib qt"
   ]
  },
  {
   "cell_type": "code",
   "execution_count": null,
   "id": "agreed-easter",
   "metadata": {},
   "outputs": [],
   "source": [
    "with open('../config.env') as f:\n",
    "    credentials=f.read()\n",
    "credentials=credentials.split(\" \")\n",
    "con = mysql.connector.connect(username=credentials[0],password=credentials[1],host=credentials[2],port=credentials[3],database=credentials[4])\n",
    "query=con.cursor()\n",
    "\n"
   ]
  },
  {
   "cell_type": "code",
   "execution_count": null,
   "id": "agricultural-spain",
   "metadata": {},
   "outputs": [],
   "source": [
    "sql=\"SELECT * FROM total_india_cases\"\n",
    "query.execute(sql)\n",
    "result=query.fetchall()\n",
    "column=[columns[0] for columns in query.description]"
   ]
  },
  {
   "cell_type": "code",
   "execution_count": null,
   "id": "applicable-young",
   "metadata": {},
   "outputs": [],
   "source": [
    "data=pandas.DataFrame(result,columns=column)"
   ]
  },
  {
   "cell_type": "code",
   "execution_count": null,
   "id": "confirmed-rehabilitation",
   "metadata": {},
   "outputs": [],
   "source": [
    "# data"
   ]
  },
  {
   "cell_type": "code",
   "execution_count": null,
   "id": "convertible-holocaust",
   "metadata": {},
   "outputs": [],
   "source": [
    "# data.info()"
   ]
  },
  {
   "cell_type": "code",
   "execution_count": null,
   "id": "enabling-teaching",
   "metadata": {},
   "outputs": [],
   "source": [
    "# data.describe()"
   ]
  },
  {
   "cell_type": "code",
   "execution_count": null,
   "id": "sapphire-millennium",
   "metadata": {},
   "outputs": [],
   "source": [
    "# data.plot(kind='line',x='date',y='total_confirmed',figsize=(20,15))"
   ]
  },
  {
   "cell_type": "code",
   "execution_count": null,
   "id": "covered-sphere",
   "metadata": {},
   "outputs": [],
   "source": [
    "# data.plot(kind='line',x='date',y='total_active',figsize=(20,15))"
   ]
  },
  {
   "cell_type": "code",
   "execution_count": null,
   "id": "enabling-peripheral",
   "metadata": {},
   "outputs": [],
   "source": [
    "# data.plot(kind='line',x='date',y='delta_active',figsize=(20,15))"
   ]
  },
  {
   "cell_type": "code",
   "execution_count": null,
   "id": "detected-filling",
   "metadata": {},
   "outputs": [],
   "source": [
    "# data.plot(kind='line',x='date',y=['total_confirmed','total_active','total_tested'],figsize=(20,15))"
   ]
  },
  {
   "cell_type": "code",
   "execution_count": null,
   "id": "colored-horizon",
   "metadata": {},
   "outputs": [],
   "source": [
    "# data.plot(kind='line',x='date',y=['delta_confirmed','delta_active','delta_tested'],figsize=(20,15))"
   ]
  },
  {
   "cell_type": "code",
   "execution_count": null,
   "id": "educational-reynolds",
   "metadata": {},
   "outputs": [],
   "source": [
    "# data.plot(kind='line',x='date',y=['delta7_confirmed','delta7_active','delta7_tested'],figsize=(20,15))"
   ]
  },
  {
   "cell_type": "code",
   "execution_count": null,
   "id": "enclosed-winning",
   "metadata": {},
   "outputs": [],
   "source": [
    "# data.corr()"
   ]
  },
  {
   "cell_type": "code",
   "execution_count": null,
   "id": "coordinate-habitat",
   "metadata": {},
   "outputs": [],
   "source": [
    "def splitting(data,training_ratio):\n",
    "    length=len(data)\n",
    "    traing_indexes=int(length*training_ratio)\n",
    "    training_set=data[:traing_indexes]\n",
    "    testing_set=data[traing_indexes:]\n",
    "    return training_set,testing_set"
   ]
  },
  {
   "cell_type": "code",
   "execution_count": null,
   "id": "unavailable-facing",
   "metadata": {},
   "outputs": [],
   "source": [
    "training_data,testing_data=splitting(data,0.9)"
   ]
  },
  {
   "cell_type": "code",
   "execution_count": null,
   "id": "after-poker",
   "metadata": {},
   "outputs": [],
   "source": [
    "len(training_data)"
   ]
  },
  {
   "cell_type": "code",
   "execution_count": null,
   "id": "other-marks",
   "metadata": {},
   "outputs": [],
   "source": [
    "len(testing_data)"
   ]
  },
  {
   "cell_type": "code",
   "execution_count": null,
   "id": "wrong-blackjack",
   "metadata": {},
   "outputs": [],
   "source": [
    "# training_data.value_counts()"
   ]
  },
  {
   "cell_type": "code",
   "execution_count": null,
   "id": "assigned-product",
   "metadata": {},
   "outputs": [],
   "source": [
    "# testing_data.value_counts()"
   ]
  },
  {
   "cell_type": "code",
   "execution_count": null,
   "id": "adjacent-prince",
   "metadata": {},
   "outputs": [],
   "source": []
  },
  {
   "cell_type": "code",
   "execution_count": null,
   "id": "similar-inspection",
   "metadata": {},
   "outputs": [],
   "source": [
    "features_data=training_data[['ordinal_date']]"
   ]
  },
  {
   "cell_type": "code",
   "execution_count": null,
   "id": "willing-algebra",
   "metadata": {},
   "outputs": [],
   "source": [
    "# features_data"
   ]
  },
  {
   "cell_type": "code",
   "execution_count": null,
   "id": "turkish-collector",
   "metadata": {},
   "outputs": [],
   "source": [
    "labels=training_data['total_confirmed']"
   ]
  },
  {
   "cell_type": "code",
   "execution_count": null,
   "id": "serial-greeting",
   "metadata": {},
   "outputs": [],
   "source": [
    "# labels"
   ]
  },
  {
   "cell_type": "code",
   "execution_count": null,
   "id": "selected-cigarette",
   "metadata": {},
   "outputs": [],
   "source": [
    "features=features_data.to_numpy()"
   ]
  },
  {
   "cell_type": "code",
   "execution_count": null,
   "id": "standing-gothic",
   "metadata": {},
   "outputs": [],
   "source": [
    "# features"
   ]
  },
  {
   "cell_type": "code",
   "execution_count": null,
   "id": "unknown-eleven",
   "metadata": {},
   "outputs": [],
   "source": []
  },
  {
   "cell_type": "markdown",
   "id": "positive-setting",
   "metadata": {},
   "source": [
    "# model implementation"
   ]
  },
  {
   "cell_type": "code",
   "execution_count": null,
   "id": "cordless-curtis",
   "metadata": {},
   "outputs": [],
   "source": [
    "model=LinearRegression()"
   ]
  },
  {
   "cell_type": "code",
   "execution_count": null,
   "id": "mineral-handbook",
   "metadata": {},
   "outputs": [],
   "source": [
    "model.fit(features,labels)"
   ]
  },
  {
   "cell_type": "code",
   "execution_count": null,
   "id": "solved-brake",
   "metadata": {},
   "outputs": [],
   "source": [
    "model.predict([[737987]])"
   ]
  },
  {
   "cell_type": "code",
   "execution_count": null,
   "id": "addressed-decrease",
   "metadata": {},
   "outputs": [],
   "source": [
    "train_predicted=model.predict(features)"
   ]
  },
  {
   "cell_type": "code",
   "execution_count": null,
   "id": "configured-oasis",
   "metadata": {},
   "outputs": [],
   "source": [
    "test_features=testing_data[['ordinal_date']].to_numpy()"
   ]
  },
  {
   "cell_type": "code",
   "execution_count": null,
   "id": "future-confidentiality",
   "metadata": {},
   "outputs": [],
   "source": [
    "test_labels=testing_data['total_confirmed']"
   ]
  },
  {
   "cell_type": "code",
   "execution_count": null,
   "id": "actual-brazil",
   "metadata": {},
   "outputs": [],
   "source": [
    "test_predicted=model.predict(test_features)"
   ]
  },
  {
   "cell_type": "code",
   "execution_count": null,
   "id": "answering-intro",
   "metadata": {},
   "outputs": [],
   "source": [
    "train_predicted"
   ]
  },
  {
   "cell_type": "code",
   "execution_count": null,
   "id": "defensive-exploration",
   "metadata": {
    "scrolled": true
   },
   "outputs": [],
   "source": [
    "test_predicted"
   ]
  },
  {
   "cell_type": "code",
   "execution_count": null,
   "id": "after-colors",
   "metadata": {},
   "outputs": [],
   "source": [
    "# plt.plot(predicted,test_features)"
   ]
  },
  {
   "cell_type": "code",
   "execution_count": null,
   "id": "angry-atlanta",
   "metadata": {},
   "outputs": [],
   "source": [
    "# plt.plot(test_features,predicted)"
   ]
  },
  {
   "cell_type": "markdown",
   "id": "noted-reservoir",
   "metadata": {},
   "source": [
    "## Evaluation"
   ]
  },
  {
   "cell_type": "code",
   "execution_count": null,
   "id": "devoted-personal",
   "metadata": {},
   "outputs": [],
   "source": [
    "mean_squared_error_evaluation=mean_squared_error(test_labels,test_predicted)\n",
    "mean_absolute_error_evaluation=mean_absolute_error(test_labels,test_predicted)"
   ]
  },
  {
   "cell_type": "code",
   "execution_count": null,
   "id": "grand-member",
   "metadata": {},
   "outputs": [],
   "source": [
    "mean_squared_error_evaluation"
   ]
  },
  {
   "cell_type": "code",
   "execution_count": null,
   "id": "ultimate-nightlife",
   "metadata": {},
   "outputs": [],
   "source": [
    "numpy.sqrt(mean_squared_error_evaluation)"
   ]
  },
  {
   "cell_type": "code",
   "execution_count": null,
   "id": "numerous-thanksgiving",
   "metadata": {},
   "outputs": [],
   "source": [
    "mean_absolute_error_evaluation"
   ]
  },
  {
   "cell_type": "code",
   "execution_count": null,
   "id": "charged-wellington",
   "metadata": {},
   "outputs": [],
   "source": [
    "def returnNext7days():\n",
    "    date=738044\n",
    "    date_range=[]\n",
    "    l=[]\n",
    "    for i in range(1,8):\n",
    "        l.append([date+i])\n",
    "        date_range.append(datetime.date.fromordinal(date+i))\n",
    "    return l,date_range\n",
    "predictingdate,daterange=returnNext7days()\n",
    "print(predictingdate)\n",
    "print(daterange)"
   ]
  },
  {
   "cell_type": "code",
   "execution_count": null,
   "id": "historic-athens",
   "metadata": {},
   "outputs": [],
   "source": []
  },
  {
   "cell_type": "code",
   "execution_count": null,
   "id": "sticky-measure",
   "metadata": {},
   "outputs": [],
   "source": [
    "next7days_predicted=model.predict(predictingdate)"
   ]
  },
  {
   "cell_type": "code",
   "execution_count": null,
   "id": "sublime-lodging",
   "metadata": {},
   "outputs": [],
   "source": [
    "next7days_predicted"
   ]
  },
  {
   "cell_type": "markdown",
   "id": "enhanced-moderator",
   "metadata": {},
   "source": [
    "## forcasting the results for next 7 days"
   ]
  },
  {
   "cell_type": "code",
   "execution_count": null,
   "id": "injured-midwest",
   "metadata": {},
   "outputs": [],
   "source": [
    "plt.plot(data['date'],numpy.concatenate((train_predicted,test_predicted)),label='Line of Regression')\n",
    "plt.plot(data['date'],numpy.concatenate((labels,test_labels)),label='Acual Data')\n",
    "plt.plot(daterange,next7days_predicted)\n",
    "plt.legend()\n",
    "plt.show()"
   ]
  },
  {
   "cell_type": "code",
   "execution_count": null,
   "id": "freelance-transport",
   "metadata": {},
   "outputs": [],
   "source": []
  },
  {
   "cell_type": "code",
   "execution_count": null,
   "id": "comprehensive-monday",
   "metadata": {},
   "outputs": [],
   "source": []
  },
  {
   "cell_type": "code",
   "execution_count": null,
   "id": "invisible-indian",
   "metadata": {},
   "outputs": [],
   "source": []
  },
  {
   "cell_type": "code",
   "execution_count": null,
   "id": "tropical-regard",
   "metadata": {},
   "outputs": [],
   "source": []
  }
 ],
 "metadata": {
  "interpreter": {
   "hash": "ac59ebe37160ed0dfa835113d9b8498d9f09ceb179beaac4002f036b9467c963"
  },
  "kernelspec": {
   "display_name": "Python 3",
   "language": "python",
   "name": "python3"
  },
  "language_info": {
   "codemirror_mode": {
    "name": "ipython",
    "version": 3
   },
   "file_extension": ".py",
   "mimetype": "text/x-python",
   "name": "python",
   "nbconvert_exporter": "python",
   "pygments_lexer": "ipython3",
   "version": "3.9.2"
  }
 },
 "nbformat": 4,
 "nbformat_minor": 5
}
