{
 "cells": [
  {
   "cell_type": "markdown",
   "id": "statistical-stock",
   "metadata": {},
   "source": [
    "## imports"
   ]
  },
  {
   "cell_type": "code",
   "execution_count": 1,
   "id": "metallic-radar",
   "metadata": {},
   "outputs": [],
   "source": [
    "import pandas\n",
    "import numpy\n",
    "from matplotlib import pyplot\n",
    "from pandas.plotting import scatter_matrix\n",
    "import mysql.connector\n",
    "from sklearn.linear_model import LinearRegression\n",
    "from sklearn.preprocessing import PolynomialFeatures\n",
    "from sklearn.ensemble import RandomForestRegressor\n",
    "from sklearn.tree import DecisionTreeRegressor,ExtraTreeRegressor\n",
    "from sklearn.metrics import mean_squared_error,mean_absolute_error\n",
    "import joblib\n",
    "import datetime\n",
    "from statsmodels.tsa.arima.model import ARIMA\n",
    "from statsmodels.tsa.statespace.sarimax import SARIMAX\n",
    "from statsmodels.tsa.vector_ar.var_model import VAR\n",
    "\n",
    "%matplotlib qt"
   ]
  },
  {
   "cell_type": "markdown",
   "id": "annoying-guatemala",
   "metadata": {},
   "source": [
    "## Database Connection and data Fetching"
   ]
  },
  {
   "cell_type": "code",
   "execution_count": 2,
   "id": "greater-beads",
   "metadata": {},
   "outputs": [],
   "source": [
    "with open('../config.env') as f:\n",
    "    credentials=f.read()\n",
    "credentials=credentials.split(\" \")\n",
    "con = mysql.connector.connect(username=credentials[0],password=credentials[1],host=credentials[2],port=credentials[3],database=credentials[4])\n",
    "query=con.cursor()"
   ]
  },
  {
   "cell_type": "code",
   "execution_count": 3,
   "id": "continental-jungle",
   "metadata": {},
   "outputs": [],
   "source": [
    "sql=\"SELECT * FROM total_india_cases\"\n",
    "query.execute(sql)\n",
    "result=query.fetchall()\n",
    "column=[columns[0] for columns in query.description]\n",
    "india_data=pandas.DataFrame(result,columns=column)"
   ]
  },
  {
   "cell_type": "code",
   "execution_count": 4,
   "id": "catholic-footage",
   "metadata": {},
   "outputs": [
    {
     "data": {
      "text/html": [
       "<div>\n",
       "<style scoped>\n",
       "    .dataframe tbody tr th:only-of-type {\n",
       "        vertical-align: middle;\n",
       "    }\n",
       "\n",
       "    .dataframe tbody tr th {\n",
       "        vertical-align: top;\n",
       "    }\n",
       "\n",
       "    .dataframe thead th {\n",
       "        text-align: right;\n",
       "    }\n",
       "</style>\n",
       "<table border=\"1\" class=\"dataframe\">\n",
       "  <thead>\n",
       "    <tr style=\"text-align: right;\">\n",
       "      <th></th>\n",
       "      <th>index_no</th>\n",
       "      <th>date</th>\n",
       "      <th>ordinal_date</th>\n",
       "      <th>total_confirmed</th>\n",
       "      <th>total_active</th>\n",
       "      <th>total_recovered</th>\n",
       "      <th>total_deaths</th>\n",
       "      <th>total_tested</th>\n",
       "      <th>total_vaccinated1</th>\n",
       "      <th>total_vaccinated2</th>\n",
       "      <th>...</th>\n",
       "      <th>delta7_confirmed</th>\n",
       "      <th>delta7_active</th>\n",
       "      <th>delta7_recovered</th>\n",
       "      <th>delta7_deaths</th>\n",
       "      <th>delta7_tested</th>\n",
       "      <th>delta7_vaccinated1</th>\n",
       "      <th>delta7_vaccinated2</th>\n",
       "      <th>total_other</th>\n",
       "      <th>delta_other</th>\n",
       "      <th>delta7_other</th>\n",
       "    </tr>\n",
       "  </thead>\n",
       "  <tbody>\n",
       "    <tr>\n",
       "      <th>0</th>\n",
       "      <td>1</td>\n",
       "      <td>2020-01-30</td>\n",
       "      <td>737454</td>\n",
       "      <td>1</td>\n",
       "      <td>1</td>\n",
       "      <td>0</td>\n",
       "      <td>0</td>\n",
       "      <td>0</td>\n",
       "      <td>0</td>\n",
       "      <td>0</td>\n",
       "      <td>...</td>\n",
       "      <td>1</td>\n",
       "      <td>1</td>\n",
       "      <td>0</td>\n",
       "      <td>0</td>\n",
       "      <td>0</td>\n",
       "      <td>0</td>\n",
       "      <td>0</td>\n",
       "      <td>0</td>\n",
       "      <td>0</td>\n",
       "      <td>0</td>\n",
       "    </tr>\n",
       "    <tr>\n",
       "      <th>1</th>\n",
       "      <td>2</td>\n",
       "      <td>2020-02-02</td>\n",
       "      <td>737457</td>\n",
       "      <td>2</td>\n",
       "      <td>2</td>\n",
       "      <td>0</td>\n",
       "      <td>0</td>\n",
       "      <td>0</td>\n",
       "      <td>0</td>\n",
       "      <td>0</td>\n",
       "      <td>...</td>\n",
       "      <td>2</td>\n",
       "      <td>2</td>\n",
       "      <td>0</td>\n",
       "      <td>0</td>\n",
       "      <td>0</td>\n",
       "      <td>0</td>\n",
       "      <td>0</td>\n",
       "      <td>0</td>\n",
       "      <td>0</td>\n",
       "      <td>0</td>\n",
       "    </tr>\n",
       "    <tr>\n",
       "      <th>2</th>\n",
       "      <td>3</td>\n",
       "      <td>2020-02-03</td>\n",
       "      <td>737458</td>\n",
       "      <td>3</td>\n",
       "      <td>3</td>\n",
       "      <td>0</td>\n",
       "      <td>0</td>\n",
       "      <td>0</td>\n",
       "      <td>0</td>\n",
       "      <td>0</td>\n",
       "      <td>...</td>\n",
       "      <td>3</td>\n",
       "      <td>3</td>\n",
       "      <td>0</td>\n",
       "      <td>0</td>\n",
       "      <td>0</td>\n",
       "      <td>0</td>\n",
       "      <td>0</td>\n",
       "      <td>0</td>\n",
       "      <td>0</td>\n",
       "      <td>0</td>\n",
       "    </tr>\n",
       "    <tr>\n",
       "      <th>3</th>\n",
       "      <td>4</td>\n",
       "      <td>2020-02-14</td>\n",
       "      <td>737469</td>\n",
       "      <td>3</td>\n",
       "      <td>0</td>\n",
       "      <td>3</td>\n",
       "      <td>0</td>\n",
       "      <td>0</td>\n",
       "      <td>0</td>\n",
       "      <td>0</td>\n",
       "      <td>...</td>\n",
       "      <td>0</td>\n",
       "      <td>-3</td>\n",
       "      <td>3</td>\n",
       "      <td>0</td>\n",
       "      <td>0</td>\n",
       "      <td>0</td>\n",
       "      <td>0</td>\n",
       "      <td>0</td>\n",
       "      <td>0</td>\n",
       "      <td>0</td>\n",
       "    </tr>\n",
       "    <tr>\n",
       "      <th>4</th>\n",
       "      <td>5</td>\n",
       "      <td>2020-03-02</td>\n",
       "      <td>737486</td>\n",
       "      <td>5</td>\n",
       "      <td>2</td>\n",
       "      <td>3</td>\n",
       "      <td>0</td>\n",
       "      <td>0</td>\n",
       "      <td>0</td>\n",
       "      <td>0</td>\n",
       "      <td>...</td>\n",
       "      <td>2</td>\n",
       "      <td>2</td>\n",
       "      <td>0</td>\n",
       "      <td>0</td>\n",
       "      <td>0</td>\n",
       "      <td>0</td>\n",
       "      <td>0</td>\n",
       "      <td>0</td>\n",
       "      <td>0</td>\n",
       "      <td>0</td>\n",
       "    </tr>\n",
       "    <tr>\n",
       "      <th>...</th>\n",
       "      <td>...</td>\n",
       "      <td>...</td>\n",
       "      <td>...</td>\n",
       "      <td>...</td>\n",
       "      <td>...</td>\n",
       "      <td>...</td>\n",
       "      <td>...</td>\n",
       "      <td>...</td>\n",
       "      <td>...</td>\n",
       "      <td>...</td>\n",
       "      <td>...</td>\n",
       "      <td>...</td>\n",
       "      <td>...</td>\n",
       "      <td>...</td>\n",
       "      <td>...</td>\n",
       "      <td>...</td>\n",
       "      <td>...</td>\n",
       "      <td>...</td>\n",
       "      <td>...</td>\n",
       "      <td>...</td>\n",
       "      <td>...</td>\n",
       "    </tr>\n",
       "    <tr>\n",
       "      <th>580</th>\n",
       "      <td>582</td>\n",
       "      <td>2021-09-29</td>\n",
       "      <td>738062</td>\n",
       "      <td>33738217</td>\n",
       "      <td>269744</td>\n",
       "      <td>33007340</td>\n",
       "      <td>448094</td>\n",
       "      <td>568956439</td>\n",
       "      <td>646473741</td>\n",
       "      <td>236996837</td>\n",
       "      <td>...</td>\n",
       "      <td>176115</td>\n",
       "      <td>-25088</td>\n",
       "      <td>199126</td>\n",
       "      <td>2013</td>\n",
       "      <td>10589426</td>\n",
       "      <td>27960741</td>\n",
       "      <td>21519788</td>\n",
       "      <td>13039</td>\n",
       "      <td>9</td>\n",
       "      <td>64</td>\n",
       "    </tr>\n",
       "    <tr>\n",
       "      <th>581</th>\n",
       "      <td>583</td>\n",
       "      <td>2021-09-30</td>\n",
       "      <td>738063</td>\n",
       "      <td>33765502</td>\n",
       "      <td>268540</td>\n",
       "      <td>33035544</td>\n",
       "      <td>448372</td>\n",
       "      <td>570477338</td>\n",
       "      <td>650229045</td>\n",
       "      <td>239978962</td>\n",
       "      <td>...</td>\n",
       "      <td>171989</td>\n",
       "      <td>-24862</td>\n",
       "      <td>194820</td>\n",
       "      <td>1973</td>\n",
       "      <td>10544629</td>\n",
       "      <td>27326652</td>\n",
       "      <td>21363329</td>\n",
       "      <td>13046</td>\n",
       "      <td>7</td>\n",
       "      <td>58</td>\n",
       "    </tr>\n",
       "    <tr>\n",
       "      <th>582</th>\n",
       "      <td>584</td>\n",
       "      <td>2021-10-01</td>\n",
       "      <td>738064</td>\n",
       "      <td>33789420</td>\n",
       "      <td>266757</td>\n",
       "      <td>33061004</td>\n",
       "      <td>448605</td>\n",
       "      <td>571994990</td>\n",
       "      <td>654331744</td>\n",
       "      <td>243149810</td>\n",
       "      <td>...</td>\n",
       "      <td>166342</td>\n",
       "      <td>-27862</td>\n",
       "      <td>192231</td>\n",
       "      <td>1915</td>\n",
       "      <td>10333607</td>\n",
       "      <td>27156870</td>\n",
       "      <td>21395524</td>\n",
       "      <td>13054</td>\n",
       "      <td>8</td>\n",
       "      <td>58</td>\n",
       "    </tr>\n",
       "    <tr>\n",
       "      <th>583</th>\n",
       "      <td>585</td>\n",
       "      <td>2021-10-02</td>\n",
       "      <td>738065</td>\n",
       "      <td>33812609</td>\n",
       "      <td>263763</td>\n",
       "      <td>33086942</td>\n",
       "      <td>448847</td>\n",
       "      <td>573260724</td>\n",
       "      <td>658277760</td>\n",
       "      <td>246897588</td>\n",
       "      <td>...</td>\n",
       "      <td>161362</td>\n",
       "      <td>-32730</td>\n",
       "      <td>192148</td>\n",
       "      <td>1898</td>\n",
       "      <td>10017479</td>\n",
       "      <td>27446675</td>\n",
       "      <td>21647146</td>\n",
       "      <td>13057</td>\n",
       "      <td>3</td>\n",
       "      <td>46</td>\n",
       "    </tr>\n",
       "    <tr>\n",
       "      <th>584</th>\n",
       "      <td>586</td>\n",
       "      <td>2021-10-03</td>\n",
       "      <td>738066</td>\n",
       "      <td>33834253</td>\n",
       "      <td>258495</td>\n",
       "      <td>33113666</td>\n",
       "      <td>449029</td>\n",
       "      <td>574252400</td>\n",
       "      <td>659815128</td>\n",
       "      <td>248117733</td>\n",
       "      <td>...</td>\n",
       "      <td>156007</td>\n",
       "      <td>-35089</td>\n",
       "      <td>189247</td>\n",
       "      <td>1804</td>\n",
       "      <td>9844149</td>\n",
       "      <td>26598842</td>\n",
       "      <td>21175008</td>\n",
       "      <td>13063</td>\n",
       "      <td>6</td>\n",
       "      <td>45</td>\n",
       "    </tr>\n",
       "  </tbody>\n",
       "</table>\n",
       "<p>585 rows × 27 columns</p>\n",
       "</div>"
      ],
      "text/plain": [
       "     index_no        date  ordinal_date  total_confirmed  total_active  \\\n",
       "0           1  2020-01-30        737454                1             1   \n",
       "1           2  2020-02-02        737457                2             2   \n",
       "2           3  2020-02-03        737458                3             3   \n",
       "3           4  2020-02-14        737469                3             0   \n",
       "4           5  2020-03-02        737486                5             2   \n",
       "..        ...         ...           ...              ...           ...   \n",
       "580       582  2021-09-29        738062         33738217        269744   \n",
       "581       583  2021-09-30        738063         33765502        268540   \n",
       "582       584  2021-10-01        738064         33789420        266757   \n",
       "583       585  2021-10-02        738065         33812609        263763   \n",
       "584       586  2021-10-03        738066         33834253        258495   \n",
       "\n",
       "     total_recovered  total_deaths  total_tested  total_vaccinated1  \\\n",
       "0                  0             0             0                  0   \n",
       "1                  0             0             0                  0   \n",
       "2                  0             0             0                  0   \n",
       "3                  3             0             0                  0   \n",
       "4                  3             0             0                  0   \n",
       "..               ...           ...           ...                ...   \n",
       "580         33007340        448094     568956439          646473741   \n",
       "581         33035544        448372     570477338          650229045   \n",
       "582         33061004        448605     571994990          654331744   \n",
       "583         33086942        448847     573260724          658277760   \n",
       "584         33113666        449029     574252400          659815128   \n",
       "\n",
       "     total_vaccinated2  ...  delta7_confirmed  delta7_active  \\\n",
       "0                    0  ...                 1              1   \n",
       "1                    0  ...                 2              2   \n",
       "2                    0  ...                 3              3   \n",
       "3                    0  ...                 0             -3   \n",
       "4                    0  ...                 2              2   \n",
       "..                 ...  ...               ...            ...   \n",
       "580          236996837  ...            176115         -25088   \n",
       "581          239978962  ...            171989         -24862   \n",
       "582          243149810  ...            166342         -27862   \n",
       "583          246897588  ...            161362         -32730   \n",
       "584          248117733  ...            156007         -35089   \n",
       "\n",
       "     delta7_recovered  delta7_deaths  delta7_tested  delta7_vaccinated1  \\\n",
       "0                   0              0              0                   0   \n",
       "1                   0              0              0                   0   \n",
       "2                   0              0              0                   0   \n",
       "3                   3              0              0                   0   \n",
       "4                   0              0              0                   0   \n",
       "..                ...            ...            ...                 ...   \n",
       "580            199126           2013       10589426            27960741   \n",
       "581            194820           1973       10544629            27326652   \n",
       "582            192231           1915       10333607            27156870   \n",
       "583            192148           1898       10017479            27446675   \n",
       "584            189247           1804        9844149            26598842   \n",
       "\n",
       "     delta7_vaccinated2  total_other  delta_other  delta7_other  \n",
       "0                     0            0            0             0  \n",
       "1                     0            0            0             0  \n",
       "2                     0            0            0             0  \n",
       "3                     0            0            0             0  \n",
       "4                     0            0            0             0  \n",
       "..                  ...          ...          ...           ...  \n",
       "580            21519788        13039            9            64  \n",
       "581            21363329        13046            7            58  \n",
       "582            21395524        13054            8            58  \n",
       "583            21647146        13057            3            46  \n",
       "584            21175008        13063            6            45  \n",
       "\n",
       "[585 rows x 27 columns]"
      ]
     },
     "execution_count": 4,
     "metadata": {},
     "output_type": "execute_result"
    }
   ],
   "source": [
    "india_data"
   ]
  },
  {
   "cell_type": "code",
   "execution_count": 5,
   "id": "stable-monster",
   "metadata": {},
   "outputs": [],
   "source": [
    "sql=\"SELECT * FROM total_state_cases WHERE state_name='MH'\"\n",
    "query.execute(sql)\n",
    "result=query.fetchall()\n",
    "column=[columns[0] for columns in query.description]\n",
    "maharashtra_data=pandas.DataFrame(result,columns=column)"
   ]
  },
  {
   "cell_type": "code",
   "execution_count": 6,
   "id": "reasonable-administration",
   "metadata": {},
   "outputs": [
    {
     "data": {
      "text/html": [
       "<div>\n",
       "<style scoped>\n",
       "    .dataframe tbody tr th:only-of-type {\n",
       "        vertical-align: middle;\n",
       "    }\n",
       "\n",
       "    .dataframe tbody tr th {\n",
       "        vertical-align: top;\n",
       "    }\n",
       "\n",
       "    .dataframe thead th {\n",
       "        text-align: right;\n",
       "    }\n",
       "</style>\n",
       "<table border=\"1\" class=\"dataframe\">\n",
       "  <thead>\n",
       "    <tr style=\"text-align: right;\">\n",
       "      <th></th>\n",
       "      <th>index_no</th>\n",
       "      <th>date</th>\n",
       "      <th>ordinal_date</th>\n",
       "      <th>state_name</th>\n",
       "      <th>total_confirmed</th>\n",
       "      <th>total_active</th>\n",
       "      <th>total_recovered</th>\n",
       "      <th>total_deaths</th>\n",
       "      <th>total_tested</th>\n",
       "      <th>total_vaccinated1</th>\n",
       "      <th>...</th>\n",
       "      <th>delta7_confirmed</th>\n",
       "      <th>delta7_active</th>\n",
       "      <th>delta7_recovered</th>\n",
       "      <th>delta7_deaths</th>\n",
       "      <th>delta7_tested</th>\n",
       "      <th>delta7_vaccinated1</th>\n",
       "      <th>delta7_vaccinated2</th>\n",
       "      <th>total_other</th>\n",
       "      <th>delta_other</th>\n",
       "      <th>delta7_other</th>\n",
       "    </tr>\n",
       "  </thead>\n",
       "  <tbody>\n",
       "    <tr>\n",
       "      <th>0</th>\n",
       "      <td>52</td>\n",
       "      <td>2020-03-09</td>\n",
       "      <td>737493</td>\n",
       "      <td>MH</td>\n",
       "      <td>2</td>\n",
       "      <td>2</td>\n",
       "      <td>0</td>\n",
       "      <td>0</td>\n",
       "      <td>0</td>\n",
       "      <td>0</td>\n",
       "      <td>...</td>\n",
       "      <td>2</td>\n",
       "      <td>2</td>\n",
       "      <td>0</td>\n",
       "      <td>0</td>\n",
       "      <td>0</td>\n",
       "      <td>0</td>\n",
       "      <td>0</td>\n",
       "      <td>0</td>\n",
       "      <td>0</td>\n",
       "      <td>0</td>\n",
       "    </tr>\n",
       "    <tr>\n",
       "      <th>1</th>\n",
       "      <td>64</td>\n",
       "      <td>2020-03-10</td>\n",
       "      <td>737494</td>\n",
       "      <td>MH</td>\n",
       "      <td>5</td>\n",
       "      <td>5</td>\n",
       "      <td>0</td>\n",
       "      <td>0</td>\n",
       "      <td>0</td>\n",
       "      <td>0</td>\n",
       "      <td>...</td>\n",
       "      <td>5</td>\n",
       "      <td>5</td>\n",
       "      <td>0</td>\n",
       "      <td>0</td>\n",
       "      <td>0</td>\n",
       "      <td>0</td>\n",
       "      <td>0</td>\n",
       "      <td>0</td>\n",
       "      <td>0</td>\n",
       "      <td>0</td>\n",
       "    </tr>\n",
       "    <tr>\n",
       "      <th>2</th>\n",
       "      <td>76</td>\n",
       "      <td>2020-03-11</td>\n",
       "      <td>737495</td>\n",
       "      <td>MH</td>\n",
       "      <td>11</td>\n",
       "      <td>11</td>\n",
       "      <td>0</td>\n",
       "      <td>0</td>\n",
       "      <td>0</td>\n",
       "      <td>0</td>\n",
       "      <td>...</td>\n",
       "      <td>11</td>\n",
       "      <td>11</td>\n",
       "      <td>0</td>\n",
       "      <td>0</td>\n",
       "      <td>0</td>\n",
       "      <td>0</td>\n",
       "      <td>0</td>\n",
       "      <td>0</td>\n",
       "      <td>0</td>\n",
       "      <td>0</td>\n",
       "    </tr>\n",
       "    <tr>\n",
       "      <th>3</th>\n",
       "      <td>89</td>\n",
       "      <td>2020-03-12</td>\n",
       "      <td>737496</td>\n",
       "      <td>MH</td>\n",
       "      <td>14</td>\n",
       "      <td>14</td>\n",
       "      <td>0</td>\n",
       "      <td>0</td>\n",
       "      <td>0</td>\n",
       "      <td>0</td>\n",
       "      <td>...</td>\n",
       "      <td>14</td>\n",
       "      <td>14</td>\n",
       "      <td>0</td>\n",
       "      <td>0</td>\n",
       "      <td>0</td>\n",
       "      <td>0</td>\n",
       "      <td>0</td>\n",
       "      <td>0</td>\n",
       "      <td>0</td>\n",
       "      <td>0</td>\n",
       "    </tr>\n",
       "    <tr>\n",
       "      <th>4</th>\n",
       "      <td>102</td>\n",
       "      <td>2020-03-13</td>\n",
       "      <td>737497</td>\n",
       "      <td>MH</td>\n",
       "      <td>17</td>\n",
       "      <td>17</td>\n",
       "      <td>0</td>\n",
       "      <td>0</td>\n",
       "      <td>0</td>\n",
       "      <td>0</td>\n",
       "      <td>...</td>\n",
       "      <td>17</td>\n",
       "      <td>17</td>\n",
       "      <td>0</td>\n",
       "      <td>0</td>\n",
       "      <td>0</td>\n",
       "      <td>0</td>\n",
       "      <td>0</td>\n",
       "      <td>0</td>\n",
       "      <td>0</td>\n",
       "      <td>0</td>\n",
       "    </tr>\n",
       "    <tr>\n",
       "      <th>...</th>\n",
       "      <td>...</td>\n",
       "      <td>...</td>\n",
       "      <td>...</td>\n",
       "      <td>...</td>\n",
       "      <td>...</td>\n",
       "      <td>...</td>\n",
       "      <td>...</td>\n",
       "      <td>...</td>\n",
       "      <td>...</td>\n",
       "      <td>...</td>\n",
       "      <td>...</td>\n",
       "      <td>...</td>\n",
       "      <td>...</td>\n",
       "      <td>...</td>\n",
       "      <td>...</td>\n",
       "      <td>...</td>\n",
       "      <td>...</td>\n",
       "      <td>...</td>\n",
       "      <td>...</td>\n",
       "      <td>...</td>\n",
       "      <td>...</td>\n",
       "    </tr>\n",
       "    <tr>\n",
       "      <th>569</th>\n",
       "      <td>19917</td>\n",
       "      <td>2021-09-29</td>\n",
       "      <td>738062</td>\n",
       "      <td>MH</td>\n",
       "      <td>6547793</td>\n",
       "      <td>36675</td>\n",
       "      <td>6368530</td>\n",
       "      <td>139011</td>\n",
       "      <td>58884819</td>\n",
       "      <td>57091306</td>\n",
       "      <td>...</td>\n",
       "      <td>16556</td>\n",
       "      <td>-3309</td>\n",
       "      <td>19501</td>\n",
       "      <td>347</td>\n",
       "      <td>1408677</td>\n",
       "      <td>2729841</td>\n",
       "      <td>2110890</td>\n",
       "      <td>3577</td>\n",
       "      <td>4</td>\n",
       "      <td>17</td>\n",
       "    </tr>\n",
       "    <tr>\n",
       "      <th>570</th>\n",
       "      <td>19953</td>\n",
       "      <td>2021-09-30</td>\n",
       "      <td>738063</td>\n",
       "      <td>MH</td>\n",
       "      <td>6550856</td>\n",
       "      <td>36484</td>\n",
       "      <td>6371728</td>\n",
       "      <td>139067</td>\n",
       "      <td>58739974</td>\n",
       "      <td>57633028</td>\n",
       "      <td>...</td>\n",
       "      <td>16299</td>\n",
       "      <td>-2707</td>\n",
       "      <td>18649</td>\n",
       "      <td>342</td>\n",
       "      <td>1093459</td>\n",
       "      <td>2820452</td>\n",
       "      <td>2153323</td>\n",
       "      <td>3577</td>\n",
       "      <td>0</td>\n",
       "      <td>15</td>\n",
       "    </tr>\n",
       "    <tr>\n",
       "      <th>571</th>\n",
       "      <td>19989</td>\n",
       "      <td>2021-10-01</td>\n",
       "      <td>738064</td>\n",
       "      <td>MH</td>\n",
       "      <td>6553961</td>\n",
       "      <td>36371</td>\n",
       "      <td>6374892</td>\n",
       "      <td>139117</td>\n",
       "      <td>58910564</td>\n",
       "      <td>58110270</td>\n",
       "      <td>...</td>\n",
       "      <td>16118</td>\n",
       "      <td>-2120</td>\n",
       "      <td>17880</td>\n",
       "      <td>341</td>\n",
       "      <td>1091179</td>\n",
       "      <td>3013433</td>\n",
       "      <td>2263721</td>\n",
       "      <td>3581</td>\n",
       "      <td>4</td>\n",
       "      <td>17</td>\n",
       "    </tr>\n",
       "    <tr>\n",
       "      <th>572</th>\n",
       "      <td>20025</td>\n",
       "      <td>2021-10-02</td>\n",
       "      <td>738065</td>\n",
       "      <td>MH</td>\n",
       "      <td>6556657</td>\n",
       "      <td>35955</td>\n",
       "      <td>6377954</td>\n",
       "      <td>139166</td>\n",
       "      <td>59074660</td>\n",
       "      <td>58553667</td>\n",
       "      <td>...</td>\n",
       "      <td>15538</td>\n",
       "      <td>-2029</td>\n",
       "      <td>17219</td>\n",
       "      <td>332</td>\n",
       "      <td>1082650</td>\n",
       "      <td>3140902</td>\n",
       "      <td>2288397</td>\n",
       "      <td>3582</td>\n",
       "      <td>1</td>\n",
       "      <td>16</td>\n",
       "    </tr>\n",
       "    <tr>\n",
       "      <th>573</th>\n",
       "      <td>20061</td>\n",
       "      <td>2021-10-03</td>\n",
       "      <td>738066</td>\n",
       "      <td>MH</td>\n",
       "      <td>6559349</td>\n",
       "      <td>35889</td>\n",
       "      <td>6380670</td>\n",
       "      <td>139206</td>\n",
       "      <td>59222263</td>\n",
       "      <td>58617761</td>\n",
       "      <td>...</td>\n",
       "      <td>15024</td>\n",
       "      <td>-1971</td>\n",
       "      <td>16643</td>\n",
       "      <td>336</td>\n",
       "      <td>1064263</td>\n",
       "      <td>3074610</td>\n",
       "      <td>2251363</td>\n",
       "      <td>3584</td>\n",
       "      <td>2</td>\n",
       "      <td>16</td>\n",
       "    </tr>\n",
       "  </tbody>\n",
       "</table>\n",
       "<p>574 rows × 28 columns</p>\n",
       "</div>"
      ],
      "text/plain": [
       "     index_no        date  ordinal_date state_name  total_confirmed  \\\n",
       "0          52  2020-03-09        737493         MH                2   \n",
       "1          64  2020-03-10        737494         MH                5   \n",
       "2          76  2020-03-11        737495         MH               11   \n",
       "3          89  2020-03-12        737496         MH               14   \n",
       "4         102  2020-03-13        737497         MH               17   \n",
       "..        ...         ...           ...        ...              ...   \n",
       "569     19917  2021-09-29        738062         MH          6547793   \n",
       "570     19953  2021-09-30        738063         MH          6550856   \n",
       "571     19989  2021-10-01        738064         MH          6553961   \n",
       "572     20025  2021-10-02        738065         MH          6556657   \n",
       "573     20061  2021-10-03        738066         MH          6559349   \n",
       "\n",
       "     total_active  total_recovered  total_deaths  total_tested  \\\n",
       "0               2                0             0             0   \n",
       "1               5                0             0             0   \n",
       "2              11                0             0             0   \n",
       "3              14                0             0             0   \n",
       "4              17                0             0             0   \n",
       "..            ...              ...           ...           ...   \n",
       "569         36675          6368530        139011      58884819   \n",
       "570         36484          6371728        139067      58739974   \n",
       "571         36371          6374892        139117      58910564   \n",
       "572         35955          6377954        139166      59074660   \n",
       "573         35889          6380670        139206      59222263   \n",
       "\n",
       "     total_vaccinated1  ...  delta7_confirmed  delta7_active  \\\n",
       "0                    0  ...                 2              2   \n",
       "1                    0  ...                 5              5   \n",
       "2                    0  ...                11             11   \n",
       "3                    0  ...                14             14   \n",
       "4                    0  ...                17             17   \n",
       "..                 ...  ...               ...            ...   \n",
       "569           57091306  ...             16556          -3309   \n",
       "570           57633028  ...             16299          -2707   \n",
       "571           58110270  ...             16118          -2120   \n",
       "572           58553667  ...             15538          -2029   \n",
       "573           58617761  ...             15024          -1971   \n",
       "\n",
       "     delta7_recovered  delta7_deaths  delta7_tested  delta7_vaccinated1  \\\n",
       "0                   0              0              0                   0   \n",
       "1                   0              0              0                   0   \n",
       "2                   0              0              0                   0   \n",
       "3                   0              0              0                   0   \n",
       "4                   0              0              0                   0   \n",
       "..                ...            ...            ...                 ...   \n",
       "569             19501            347        1408677             2729841   \n",
       "570             18649            342        1093459             2820452   \n",
       "571             17880            341        1091179             3013433   \n",
       "572             17219            332        1082650             3140902   \n",
       "573             16643            336        1064263             3074610   \n",
       "\n",
       "     delta7_vaccinated2  total_other  delta_other  delta7_other  \n",
       "0                     0            0            0             0  \n",
       "1                     0            0            0             0  \n",
       "2                     0            0            0             0  \n",
       "3                     0            0            0             0  \n",
       "4                     0            0            0             0  \n",
       "..                  ...          ...          ...           ...  \n",
       "569             2110890         3577            4            17  \n",
       "570             2153323         3577            0            15  \n",
       "571             2263721         3581            4            17  \n",
       "572             2288397         3582            1            16  \n",
       "573             2251363         3584            2            16  \n",
       "\n",
       "[574 rows x 28 columns]"
      ]
     },
     "execution_count": 6,
     "metadata": {},
     "output_type": "execute_result"
    }
   ],
   "source": [
    "maharashtra_data"
   ]
  },
  {
   "cell_type": "code",
   "execution_count": 8,
   "id": "turkish-september",
   "metadata": {},
   "outputs": [],
   "source": [
    "sql=\"SELECT * FROM total_district_cases WHERE district_name='Raigad'\"\n",
    "query.execute(sql)\n",
    "result=query.fetchall()\n",
    "column=[columns[0] for columns in query.description]\n",
    "raigad_data=pandas.DataFrame(result,columns=column)"
   ]
  },
  {
   "cell_type": "code",
   "execution_count": 8,
   "id": "constitutional-parameter",
   "metadata": {},
   "outputs": [
    {
     "data": {
      "text/html": [
       "<div>\n",
       "<style scoped>\n",
       "    .dataframe tbody tr th:only-of-type {\n",
       "        vertical-align: middle;\n",
       "    }\n",
       "\n",
       "    .dataframe tbody tr th {\n",
       "        vertical-align: top;\n",
       "    }\n",
       "\n",
       "    .dataframe thead th {\n",
       "        text-align: right;\n",
       "    }\n",
       "</style>\n",
       "<table border=\"1\" class=\"dataframe\">\n",
       "  <thead>\n",
       "    <tr style=\"text-align: right;\">\n",
       "      <th></th>\n",
       "      <th>index_no</th>\n",
       "      <th>date</th>\n",
       "      <th>ordinal_date</th>\n",
       "      <th>state_name</th>\n",
       "      <th>district_name</th>\n",
       "      <th>total_confirmed</th>\n",
       "      <th>total_active</th>\n",
       "      <th>total_recovered</th>\n",
       "      <th>total_deaths</th>\n",
       "      <th>delta_confirmed</th>\n",
       "      <th>...</th>\n",
       "      <th>delta7_deaths</th>\n",
       "      <th>total_vaccinated1</th>\n",
       "      <th>total_vaccinated2</th>\n",
       "      <th>delta_vaccinated1</th>\n",
       "      <th>delta_vaccinated2</th>\n",
       "      <th>delta7_vaccinated1</th>\n",
       "      <th>delta7_vaccinated2</th>\n",
       "      <th>total_other</th>\n",
       "      <th>delta_other</th>\n",
       "      <th>delta7_other</th>\n",
       "    </tr>\n",
       "  </thead>\n",
       "  <tbody>\n",
       "    <tr>\n",
       "      <th>0</th>\n",
       "      <td>19918</td>\n",
       "      <td>2020-04-26</td>\n",
       "      <td>737541</td>\n",
       "      <td>MH</td>\n",
       "      <td>Raigad</td>\n",
       "      <td>57</td>\n",
       "      <td>36</td>\n",
       "      <td>20</td>\n",
       "      <td>1</td>\n",
       "      <td>0</td>\n",
       "      <td>...</td>\n",
       "      <td>0</td>\n",
       "      <td>0</td>\n",
       "      <td>0</td>\n",
       "      <td>0</td>\n",
       "      <td>0</td>\n",
       "      <td>0</td>\n",
       "      <td>0</td>\n",
       "      <td>0</td>\n",
       "      <td>0</td>\n",
       "      <td>0</td>\n",
       "    </tr>\n",
       "    <tr>\n",
       "      <th>1</th>\n",
       "      <td>20334</td>\n",
       "      <td>2020-04-27</td>\n",
       "      <td>737542</td>\n",
       "      <td>MH</td>\n",
       "      <td>Raigad</td>\n",
       "      <td>61</td>\n",
       "      <td>39</td>\n",
       "      <td>21</td>\n",
       "      <td>1</td>\n",
       "      <td>4</td>\n",
       "      <td>...</td>\n",
       "      <td>0</td>\n",
       "      <td>0</td>\n",
       "      <td>0</td>\n",
       "      <td>0</td>\n",
       "      <td>0</td>\n",
       "      <td>0</td>\n",
       "      <td>0</td>\n",
       "      <td>0</td>\n",
       "      <td>0</td>\n",
       "      <td>0</td>\n",
       "    </tr>\n",
       "    <tr>\n",
       "      <th>2</th>\n",
       "      <td>20759</td>\n",
       "      <td>2020-04-28</td>\n",
       "      <td>737543</td>\n",
       "      <td>MH</td>\n",
       "      <td>Raigad</td>\n",
       "      <td>66</td>\n",
       "      <td>44</td>\n",
       "      <td>21</td>\n",
       "      <td>1</td>\n",
       "      <td>5</td>\n",
       "      <td>...</td>\n",
       "      <td>0</td>\n",
       "      <td>0</td>\n",
       "      <td>0</td>\n",
       "      <td>0</td>\n",
       "      <td>0</td>\n",
       "      <td>0</td>\n",
       "      <td>0</td>\n",
       "      <td>0</td>\n",
       "      <td>0</td>\n",
       "      <td>0</td>\n",
       "    </tr>\n",
       "    <tr>\n",
       "      <th>3</th>\n",
       "      <td>21189</td>\n",
       "      <td>2020-04-29</td>\n",
       "      <td>737544</td>\n",
       "      <td>MH</td>\n",
       "      <td>Raigad</td>\n",
       "      <td>69</td>\n",
       "      <td>44</td>\n",
       "      <td>23</td>\n",
       "      <td>2</td>\n",
       "      <td>3</td>\n",
       "      <td>...</td>\n",
       "      <td>1</td>\n",
       "      <td>0</td>\n",
       "      <td>0</td>\n",
       "      <td>0</td>\n",
       "      <td>0</td>\n",
       "      <td>0</td>\n",
       "      <td>0</td>\n",
       "      <td>0</td>\n",
       "      <td>0</td>\n",
       "      <td>0</td>\n",
       "    </tr>\n",
       "    <tr>\n",
       "      <th>4</th>\n",
       "      <td>21623</td>\n",
       "      <td>2020-04-30</td>\n",
       "      <td>737545</td>\n",
       "      <td>MH</td>\n",
       "      <td>Raigad</td>\n",
       "      <td>71</td>\n",
       "      <td>44</td>\n",
       "      <td>24</td>\n",
       "      <td>3</td>\n",
       "      <td>2</td>\n",
       "      <td>...</td>\n",
       "      <td>2</td>\n",
       "      <td>0</td>\n",
       "      <td>0</td>\n",
       "      <td>0</td>\n",
       "      <td>0</td>\n",
       "      <td>0</td>\n",
       "      <td>0</td>\n",
       "      <td>0</td>\n",
       "      <td>0</td>\n",
       "      <td>0</td>\n",
       "    </tr>\n",
       "    <tr>\n",
       "      <th>...</th>\n",
       "      <td>...</td>\n",
       "      <td>...</td>\n",
       "      <td>...</td>\n",
       "      <td>...</td>\n",
       "      <td>...</td>\n",
       "      <td>...</td>\n",
       "      <td>...</td>\n",
       "      <td>...</td>\n",
       "      <td>...</td>\n",
       "      <td>...</td>\n",
       "      <td>...</td>\n",
       "      <td>...</td>\n",
       "      <td>...</td>\n",
       "      <td>...</td>\n",
       "      <td>...</td>\n",
       "      <td>...</td>\n",
       "      <td>...</td>\n",
       "      <td>...</td>\n",
       "      <td>...</td>\n",
       "      <td>...</td>\n",
       "      <td>...</td>\n",
       "    </tr>\n",
       "    <tr>\n",
       "      <th>521</th>\n",
       "      <td>379646</td>\n",
       "      <td>2021-09-29</td>\n",
       "      <td>738062</td>\n",
       "      <td>MH</td>\n",
       "      <td>Raigad</td>\n",
       "      <td>192684</td>\n",
       "      <td>1070</td>\n",
       "      <td>187098</td>\n",
       "      <td>4509</td>\n",
       "      <td>157</td>\n",
       "      <td>...</td>\n",
       "      <td>6</td>\n",
       "      <td>1497575</td>\n",
       "      <td>596105</td>\n",
       "      <td>45182</td>\n",
       "      <td>16086</td>\n",
       "      <td>112372</td>\n",
       "      <td>59902</td>\n",
       "      <td>7</td>\n",
       "      <td>0</td>\n",
       "      <td>0</td>\n",
       "    </tr>\n",
       "    <tr>\n",
       "      <th>522</th>\n",
       "      <td>380393</td>\n",
       "      <td>2021-09-30</td>\n",
       "      <td>738063</td>\n",
       "      <td>MH</td>\n",
       "      <td>Raigad</td>\n",
       "      <td>192810</td>\n",
       "      <td>1077</td>\n",
       "      <td>187216</td>\n",
       "      <td>4510</td>\n",
       "      <td>126</td>\n",
       "      <td>...</td>\n",
       "      <td>6</td>\n",
       "      <td>1523225</td>\n",
       "      <td>605831</td>\n",
       "      <td>25650</td>\n",
       "      <td>9726</td>\n",
       "      <td>131856</td>\n",
       "      <td>64441</td>\n",
       "      <td>7</td>\n",
       "      <td>0</td>\n",
       "      <td>0</td>\n",
       "    </tr>\n",
       "    <tr>\n",
       "      <th>523</th>\n",
       "      <td>381140</td>\n",
       "      <td>2021-10-01</td>\n",
       "      <td>738064</td>\n",
       "      <td>MH</td>\n",
       "      <td>Raigad</td>\n",
       "      <td>192930</td>\n",
       "      <td>977</td>\n",
       "      <td>187435</td>\n",
       "      <td>4511</td>\n",
       "      <td>120</td>\n",
       "      <td>...</td>\n",
       "      <td>7</td>\n",
       "      <td>1551617</td>\n",
       "      <td>615525</td>\n",
       "      <td>28392</td>\n",
       "      <td>9694</td>\n",
       "      <td>157100</td>\n",
       "      <td>70365</td>\n",
       "      <td>7</td>\n",
       "      <td>0</td>\n",
       "      <td>0</td>\n",
       "    </tr>\n",
       "    <tr>\n",
       "      <th>524</th>\n",
       "      <td>381887</td>\n",
       "      <td>2021-10-02</td>\n",
       "      <td>738065</td>\n",
       "      <td>MH</td>\n",
       "      <td>Raigad</td>\n",
       "      <td>193070</td>\n",
       "      <td>836</td>\n",
       "      <td>187715</td>\n",
       "      <td>4512</td>\n",
       "      <td>140</td>\n",
       "      <td>...</td>\n",
       "      <td>6</td>\n",
       "      <td>1567578</td>\n",
       "      <td>625129</td>\n",
       "      <td>15961</td>\n",
       "      <td>9604</td>\n",
       "      <td>133527</td>\n",
       "      <td>60062</td>\n",
       "      <td>7</td>\n",
       "      <td>0</td>\n",
       "      <td>0</td>\n",
       "    </tr>\n",
       "    <tr>\n",
       "      <th>525</th>\n",
       "      <td>382634</td>\n",
       "      <td>2021-10-03</td>\n",
       "      <td>738066</td>\n",
       "      <td>MH</td>\n",
       "      <td>Raigad</td>\n",
       "      <td>193192</td>\n",
       "      <td>854</td>\n",
       "      <td>187819</td>\n",
       "      <td>4512</td>\n",
       "      <td>122</td>\n",
       "      <td>...</td>\n",
       "      <td>6</td>\n",
       "      <td>1571674</td>\n",
       "      <td>627932</td>\n",
       "      <td>4096</td>\n",
       "      <td>2803</td>\n",
       "      <td>132433</td>\n",
       "      <td>59829</td>\n",
       "      <td>7</td>\n",
       "      <td>0</td>\n",
       "      <td>0</td>\n",
       "    </tr>\n",
       "  </tbody>\n",
       "</table>\n",
       "<p>526 rows × 26 columns</p>\n",
       "</div>"
      ],
      "text/plain": [
       "     index_no        date  ordinal_date state_name district_name  \\\n",
       "0       19918  2020-04-26        737541         MH        Raigad   \n",
       "1       20334  2020-04-27        737542         MH        Raigad   \n",
       "2       20759  2020-04-28        737543         MH        Raigad   \n",
       "3       21189  2020-04-29        737544         MH        Raigad   \n",
       "4       21623  2020-04-30        737545         MH        Raigad   \n",
       "..        ...         ...           ...        ...           ...   \n",
       "521    379646  2021-09-29        738062         MH        Raigad   \n",
       "522    380393  2021-09-30        738063         MH        Raigad   \n",
       "523    381140  2021-10-01        738064         MH        Raigad   \n",
       "524    381887  2021-10-02        738065         MH        Raigad   \n",
       "525    382634  2021-10-03        738066         MH        Raigad   \n",
       "\n",
       "     total_confirmed  total_active  total_recovered  total_deaths  \\\n",
       "0                 57            36               20             1   \n",
       "1                 61            39               21             1   \n",
       "2                 66            44               21             1   \n",
       "3                 69            44               23             2   \n",
       "4                 71            44               24             3   \n",
       "..               ...           ...              ...           ...   \n",
       "521           192684          1070           187098          4509   \n",
       "522           192810          1077           187216          4510   \n",
       "523           192930           977           187435          4511   \n",
       "524           193070           836           187715          4512   \n",
       "525           193192           854           187819          4512   \n",
       "\n",
       "     delta_confirmed  ...  delta7_deaths  total_vaccinated1  \\\n",
       "0                  0  ...              0                  0   \n",
       "1                  4  ...              0                  0   \n",
       "2                  5  ...              0                  0   \n",
       "3                  3  ...              1                  0   \n",
       "4                  2  ...              2                  0   \n",
       "..               ...  ...            ...                ...   \n",
       "521              157  ...              6            1497575   \n",
       "522              126  ...              6            1523225   \n",
       "523              120  ...              7            1551617   \n",
       "524              140  ...              6            1567578   \n",
       "525              122  ...              6            1571674   \n",
       "\n",
       "     total_vaccinated2  delta_vaccinated1  delta_vaccinated2  \\\n",
       "0                    0                  0                  0   \n",
       "1                    0                  0                  0   \n",
       "2                    0                  0                  0   \n",
       "3                    0                  0                  0   \n",
       "4                    0                  0                  0   \n",
       "..                 ...                ...                ...   \n",
       "521             596105              45182              16086   \n",
       "522             605831              25650               9726   \n",
       "523             615525              28392               9694   \n",
       "524             625129              15961               9604   \n",
       "525             627932               4096               2803   \n",
       "\n",
       "     delta7_vaccinated1  delta7_vaccinated2  total_other  delta_other  \\\n",
       "0                     0                   0            0            0   \n",
       "1                     0                   0            0            0   \n",
       "2                     0                   0            0            0   \n",
       "3                     0                   0            0            0   \n",
       "4                     0                   0            0            0   \n",
       "..                  ...                 ...          ...          ...   \n",
       "521              112372               59902            7            0   \n",
       "522              131856               64441            7            0   \n",
       "523              157100               70365            7            0   \n",
       "524              133527               60062            7            0   \n",
       "525              132433               59829            7            0   \n",
       "\n",
       "     delta7_other  \n",
       "0               0  \n",
       "1               0  \n",
       "2               0  \n",
       "3               0  \n",
       "4               0  \n",
       "..            ...  \n",
       "521             0  \n",
       "522             0  \n",
       "523             0  \n",
       "524             0  \n",
       "525             0  \n",
       "\n",
       "[526 rows x 26 columns]"
      ]
     },
     "execution_count": 8,
     "metadata": {},
     "output_type": "execute_result"
    }
   ],
   "source": [
    "raigad_data"
   ]
  },
  {
   "cell_type": "markdown",
   "id": "interior-occupation",
   "metadata": {},
   "source": [
    "## function for traintest_splitting and next 7 days ordinal_date creating"
   ]
  },
  {
   "cell_type": "code",
   "execution_count": 13,
   "id": "liberal-brand",
   "metadata": {},
   "outputs": [],
   "source": [
    "def splitting(data,training_ratio):\n",
    "    length=len(data)\n",
    "    traing_indexes=int(length*training_ratio)\n",
    "    training_set=data[:traing_indexes]\n",
    "    testing_set=data[traing_indexes:]\n",
    "    return training_set,testing_set"
   ]
  },
  {
   "cell_type": "code",
   "execution_count": 14,
   "id": "incoming-substitute",
   "metadata": {},
   "outputs": [],
   "source": [
    "def returnNext7days():\n",
    "    date=738066\n",
    "    date_range=[]\n",
    "    l=[]\n",
    "    for i in range(1,8):\n",
    "        l.append([date+i])\n",
    "        date_range.append(datetime.date.fromordinal(date+i))\n",
    "    return l,date_range\n",
    "predictingdate,daterange=returnNext7days()\n"
   ]
  },
  {
   "cell_type": "markdown",
   "id": "acquired-fighter",
   "metadata": {},
   "source": [
    "## Train Test Splitting"
   ]
  },
  {
   "cell_type": "code",
   "execution_count": 15,
   "id": "killing-plaintiff",
   "metadata": {},
   "outputs": [],
   "source": [
    "# maindata=india_data\n",
    "# maindata=maharashtra_data\n",
    "maindata=raigad_data"
   ]
  },
  {
   "cell_type": "code",
   "execution_count": 16,
   "id": "statutory-picnic",
   "metadata": {},
   "outputs": [],
   "source": [
    "try_data=numpy.concatenate((maindata['ordinal_date'].to_numpy(),predictingdate),axis=None)"
   ]
  },
  {
   "cell_type": "code",
   "execution_count": 255,
   "id": "turned-conditioning",
   "metadata": {},
   "outputs": [],
   "source": [
    "# type_of_case='delta_confirmed'\n",
    "# type_of_case='delta_recovered'\n",
    "# type_of_case='delta_deaths'\n",
    "type_of_case='total_active'\n",
    "# name_of_case='confirmed'\n",
    "# name_of_case='recovered'\n",
    "# name_of_case='deaths'\n",
    "name_of_case='Total Active'\n",
    "\n",
    "maindata_labels=maindata[type_of_case]\n"
   ]
  },
  {
   "cell_type": "code",
   "execution_count": 256,
   "id": "early-employment",
   "metadata": {},
   "outputs": [
    {
     "data": {
      "text/html": [
       "<div>\n",
       "<style scoped>\n",
       "    .dataframe tbody tr th:only-of-type {\n",
       "        vertical-align: middle;\n",
       "    }\n",
       "\n",
       "    .dataframe tbody tr th {\n",
       "        vertical-align: top;\n",
       "    }\n",
       "\n",
       "    .dataframe thead th {\n",
       "        text-align: right;\n",
       "    }\n",
       "</style>\n",
       "<table border=\"1\" class=\"dataframe\">\n",
       "  <thead>\n",
       "    <tr style=\"text-align: right;\">\n",
       "      <th></th>\n",
       "      <th>index_no</th>\n",
       "      <th>date</th>\n",
       "      <th>ordinal_date</th>\n",
       "      <th>state_name</th>\n",
       "      <th>district_name</th>\n",
       "      <th>total_confirmed</th>\n",
       "      <th>total_active</th>\n",
       "      <th>total_recovered</th>\n",
       "      <th>total_deaths</th>\n",
       "      <th>delta_confirmed</th>\n",
       "      <th>...</th>\n",
       "      <th>delta7_deaths</th>\n",
       "      <th>total_vaccinated1</th>\n",
       "      <th>total_vaccinated2</th>\n",
       "      <th>delta_vaccinated1</th>\n",
       "      <th>delta_vaccinated2</th>\n",
       "      <th>delta7_vaccinated1</th>\n",
       "      <th>delta7_vaccinated2</th>\n",
       "      <th>total_other</th>\n",
       "      <th>delta_other</th>\n",
       "      <th>delta7_other</th>\n",
       "    </tr>\n",
       "  </thead>\n",
       "  <tbody>\n",
       "    <tr>\n",
       "      <th>0</th>\n",
       "      <td>19918</td>\n",
       "      <td>2020-04-26</td>\n",
       "      <td>737541</td>\n",
       "      <td>MH</td>\n",
       "      <td>Raigad</td>\n",
       "      <td>57</td>\n",
       "      <td>36</td>\n",
       "      <td>20</td>\n",
       "      <td>1</td>\n",
       "      <td>0</td>\n",
       "      <td>...</td>\n",
       "      <td>0</td>\n",
       "      <td>0</td>\n",
       "      <td>0</td>\n",
       "      <td>0</td>\n",
       "      <td>0</td>\n",
       "      <td>0</td>\n",
       "      <td>0</td>\n",
       "      <td>0</td>\n",
       "      <td>0</td>\n",
       "      <td>0</td>\n",
       "    </tr>\n",
       "    <tr>\n",
       "      <th>1</th>\n",
       "      <td>20334</td>\n",
       "      <td>2020-04-27</td>\n",
       "      <td>737542</td>\n",
       "      <td>MH</td>\n",
       "      <td>Raigad</td>\n",
       "      <td>61</td>\n",
       "      <td>39</td>\n",
       "      <td>21</td>\n",
       "      <td>1</td>\n",
       "      <td>4</td>\n",
       "      <td>...</td>\n",
       "      <td>0</td>\n",
       "      <td>0</td>\n",
       "      <td>0</td>\n",
       "      <td>0</td>\n",
       "      <td>0</td>\n",
       "      <td>0</td>\n",
       "      <td>0</td>\n",
       "      <td>0</td>\n",
       "      <td>0</td>\n",
       "      <td>0</td>\n",
       "    </tr>\n",
       "    <tr>\n",
       "      <th>2</th>\n",
       "      <td>20759</td>\n",
       "      <td>2020-04-28</td>\n",
       "      <td>737543</td>\n",
       "      <td>MH</td>\n",
       "      <td>Raigad</td>\n",
       "      <td>66</td>\n",
       "      <td>44</td>\n",
       "      <td>21</td>\n",
       "      <td>1</td>\n",
       "      <td>5</td>\n",
       "      <td>...</td>\n",
       "      <td>0</td>\n",
       "      <td>0</td>\n",
       "      <td>0</td>\n",
       "      <td>0</td>\n",
       "      <td>0</td>\n",
       "      <td>0</td>\n",
       "      <td>0</td>\n",
       "      <td>0</td>\n",
       "      <td>0</td>\n",
       "      <td>0</td>\n",
       "    </tr>\n",
       "    <tr>\n",
       "      <th>3</th>\n",
       "      <td>21189</td>\n",
       "      <td>2020-04-29</td>\n",
       "      <td>737544</td>\n",
       "      <td>MH</td>\n",
       "      <td>Raigad</td>\n",
       "      <td>69</td>\n",
       "      <td>44</td>\n",
       "      <td>23</td>\n",
       "      <td>2</td>\n",
       "      <td>3</td>\n",
       "      <td>...</td>\n",
       "      <td>1</td>\n",
       "      <td>0</td>\n",
       "      <td>0</td>\n",
       "      <td>0</td>\n",
       "      <td>0</td>\n",
       "      <td>0</td>\n",
       "      <td>0</td>\n",
       "      <td>0</td>\n",
       "      <td>0</td>\n",
       "      <td>0</td>\n",
       "    </tr>\n",
       "    <tr>\n",
       "      <th>4</th>\n",
       "      <td>21623</td>\n",
       "      <td>2020-04-30</td>\n",
       "      <td>737545</td>\n",
       "      <td>MH</td>\n",
       "      <td>Raigad</td>\n",
       "      <td>71</td>\n",
       "      <td>44</td>\n",
       "      <td>24</td>\n",
       "      <td>3</td>\n",
       "      <td>2</td>\n",
       "      <td>...</td>\n",
       "      <td>2</td>\n",
       "      <td>0</td>\n",
       "      <td>0</td>\n",
       "      <td>0</td>\n",
       "      <td>0</td>\n",
       "      <td>0</td>\n",
       "      <td>0</td>\n",
       "      <td>0</td>\n",
       "      <td>0</td>\n",
       "      <td>0</td>\n",
       "    </tr>\n",
       "    <tr>\n",
       "      <th>...</th>\n",
       "      <td>...</td>\n",
       "      <td>...</td>\n",
       "      <td>...</td>\n",
       "      <td>...</td>\n",
       "      <td>...</td>\n",
       "      <td>...</td>\n",
       "      <td>...</td>\n",
       "      <td>...</td>\n",
       "      <td>...</td>\n",
       "      <td>...</td>\n",
       "      <td>...</td>\n",
       "      <td>...</td>\n",
       "      <td>...</td>\n",
       "      <td>...</td>\n",
       "      <td>...</td>\n",
       "      <td>...</td>\n",
       "      <td>...</td>\n",
       "      <td>...</td>\n",
       "      <td>...</td>\n",
       "      <td>...</td>\n",
       "      <td>...</td>\n",
       "    </tr>\n",
       "    <tr>\n",
       "      <th>521</th>\n",
       "      <td>379646</td>\n",
       "      <td>2021-09-29</td>\n",
       "      <td>738062</td>\n",
       "      <td>MH</td>\n",
       "      <td>Raigad</td>\n",
       "      <td>192684</td>\n",
       "      <td>1070</td>\n",
       "      <td>187098</td>\n",
       "      <td>4509</td>\n",
       "      <td>157</td>\n",
       "      <td>...</td>\n",
       "      <td>6</td>\n",
       "      <td>1497575</td>\n",
       "      <td>596105</td>\n",
       "      <td>45182</td>\n",
       "      <td>16086</td>\n",
       "      <td>112372</td>\n",
       "      <td>59902</td>\n",
       "      <td>7</td>\n",
       "      <td>0</td>\n",
       "      <td>0</td>\n",
       "    </tr>\n",
       "    <tr>\n",
       "      <th>522</th>\n",
       "      <td>380393</td>\n",
       "      <td>2021-09-30</td>\n",
       "      <td>738063</td>\n",
       "      <td>MH</td>\n",
       "      <td>Raigad</td>\n",
       "      <td>192810</td>\n",
       "      <td>1077</td>\n",
       "      <td>187216</td>\n",
       "      <td>4510</td>\n",
       "      <td>126</td>\n",
       "      <td>...</td>\n",
       "      <td>6</td>\n",
       "      <td>1523225</td>\n",
       "      <td>605831</td>\n",
       "      <td>25650</td>\n",
       "      <td>9726</td>\n",
       "      <td>131856</td>\n",
       "      <td>64441</td>\n",
       "      <td>7</td>\n",
       "      <td>0</td>\n",
       "      <td>0</td>\n",
       "    </tr>\n",
       "    <tr>\n",
       "      <th>523</th>\n",
       "      <td>381140</td>\n",
       "      <td>2021-10-01</td>\n",
       "      <td>738064</td>\n",
       "      <td>MH</td>\n",
       "      <td>Raigad</td>\n",
       "      <td>192930</td>\n",
       "      <td>977</td>\n",
       "      <td>187435</td>\n",
       "      <td>4511</td>\n",
       "      <td>120</td>\n",
       "      <td>...</td>\n",
       "      <td>7</td>\n",
       "      <td>1551617</td>\n",
       "      <td>615525</td>\n",
       "      <td>28392</td>\n",
       "      <td>9694</td>\n",
       "      <td>157100</td>\n",
       "      <td>70365</td>\n",
       "      <td>7</td>\n",
       "      <td>0</td>\n",
       "      <td>0</td>\n",
       "    </tr>\n",
       "    <tr>\n",
       "      <th>524</th>\n",
       "      <td>381887</td>\n",
       "      <td>2021-10-02</td>\n",
       "      <td>738065</td>\n",
       "      <td>MH</td>\n",
       "      <td>Raigad</td>\n",
       "      <td>193070</td>\n",
       "      <td>836</td>\n",
       "      <td>187715</td>\n",
       "      <td>4512</td>\n",
       "      <td>140</td>\n",
       "      <td>...</td>\n",
       "      <td>6</td>\n",
       "      <td>1567578</td>\n",
       "      <td>625129</td>\n",
       "      <td>15961</td>\n",
       "      <td>9604</td>\n",
       "      <td>133527</td>\n",
       "      <td>60062</td>\n",
       "      <td>7</td>\n",
       "      <td>0</td>\n",
       "      <td>0</td>\n",
       "    </tr>\n",
       "    <tr>\n",
       "      <th>525</th>\n",
       "      <td>382634</td>\n",
       "      <td>2021-10-03</td>\n",
       "      <td>738066</td>\n",
       "      <td>MH</td>\n",
       "      <td>Raigad</td>\n",
       "      <td>193192</td>\n",
       "      <td>854</td>\n",
       "      <td>187819</td>\n",
       "      <td>4512</td>\n",
       "      <td>122</td>\n",
       "      <td>...</td>\n",
       "      <td>6</td>\n",
       "      <td>1571674</td>\n",
       "      <td>627932</td>\n",
       "      <td>4096</td>\n",
       "      <td>2803</td>\n",
       "      <td>132433</td>\n",
       "      <td>59829</td>\n",
       "      <td>7</td>\n",
       "      <td>0</td>\n",
       "      <td>0</td>\n",
       "    </tr>\n",
       "  </tbody>\n",
       "</table>\n",
       "<p>526 rows × 26 columns</p>\n",
       "</div>"
      ],
      "text/plain": [
       "     index_no        date  ordinal_date state_name district_name  \\\n",
       "0       19918  2020-04-26        737541         MH        Raigad   \n",
       "1       20334  2020-04-27        737542         MH        Raigad   \n",
       "2       20759  2020-04-28        737543         MH        Raigad   \n",
       "3       21189  2020-04-29        737544         MH        Raigad   \n",
       "4       21623  2020-04-30        737545         MH        Raigad   \n",
       "..        ...         ...           ...        ...           ...   \n",
       "521    379646  2021-09-29        738062         MH        Raigad   \n",
       "522    380393  2021-09-30        738063         MH        Raigad   \n",
       "523    381140  2021-10-01        738064         MH        Raigad   \n",
       "524    381887  2021-10-02        738065         MH        Raigad   \n",
       "525    382634  2021-10-03        738066         MH        Raigad   \n",
       "\n",
       "     total_confirmed  total_active  total_recovered  total_deaths  \\\n",
       "0                 57            36               20             1   \n",
       "1                 61            39               21             1   \n",
       "2                 66            44               21             1   \n",
       "3                 69            44               23             2   \n",
       "4                 71            44               24             3   \n",
       "..               ...           ...              ...           ...   \n",
       "521           192684          1070           187098          4509   \n",
       "522           192810          1077           187216          4510   \n",
       "523           192930           977           187435          4511   \n",
       "524           193070           836           187715          4512   \n",
       "525           193192           854           187819          4512   \n",
       "\n",
       "     delta_confirmed  ...  delta7_deaths  total_vaccinated1  \\\n",
       "0                  0  ...              0                  0   \n",
       "1                  4  ...              0                  0   \n",
       "2                  5  ...              0                  0   \n",
       "3                  3  ...              1                  0   \n",
       "4                  2  ...              2                  0   \n",
       "..               ...  ...            ...                ...   \n",
       "521              157  ...              6            1497575   \n",
       "522              126  ...              6            1523225   \n",
       "523              120  ...              7            1551617   \n",
       "524              140  ...              6            1567578   \n",
       "525              122  ...              6            1571674   \n",
       "\n",
       "     total_vaccinated2  delta_vaccinated1  delta_vaccinated2  \\\n",
       "0                    0                  0                  0   \n",
       "1                    0                  0                  0   \n",
       "2                    0                  0                  0   \n",
       "3                    0                  0                  0   \n",
       "4                    0                  0                  0   \n",
       "..                 ...                ...                ...   \n",
       "521             596105              45182              16086   \n",
       "522             605831              25650               9726   \n",
       "523             615525              28392               9694   \n",
       "524             625129              15961               9604   \n",
       "525             627932               4096               2803   \n",
       "\n",
       "     delta7_vaccinated1  delta7_vaccinated2  total_other  delta_other  \\\n",
       "0                     0                   0            0            0   \n",
       "1                     0                   0            0            0   \n",
       "2                     0                   0            0            0   \n",
       "3                     0                   0            0            0   \n",
       "4                     0                   0            0            0   \n",
       "..                  ...                 ...          ...          ...   \n",
       "521              112372               59902            7            0   \n",
       "522              131856               64441            7            0   \n",
       "523              157100               70365            7            0   \n",
       "524              133527               60062            7            0   \n",
       "525              132433               59829            7            0   \n",
       "\n",
       "     delta7_other  \n",
       "0               0  \n",
       "1               0  \n",
       "2               0  \n",
       "3               0  \n",
       "4               0  \n",
       "..            ...  \n",
       "521             0  \n",
       "522             0  \n",
       "523             0  \n",
       "524             0  \n",
       "525             0  \n",
       "\n",
       "[526 rows x 26 columns]"
      ]
     },
     "execution_count": 256,
     "metadata": {},
     "output_type": "execute_result"
    }
   ],
   "source": [
    "maindata"
   ]
  },
  {
   "cell_type": "code",
   "execution_count": 257,
   "id": "phantom-visibility",
   "metadata": {},
   "outputs": [],
   "source": [
    "train_data,test_data=splitting(maindata,0.98)"
   ]
  },
  {
   "cell_type": "code",
   "execution_count": 258,
   "id": "gorgeous-kingston",
   "metadata": {},
   "outputs": [],
   "source": [
    "train_labels=train_data[type_of_case]\n",
    "# train_labels=train_data['total_confirmed']"
   ]
  },
  {
   "cell_type": "code",
   "execution_count": 259,
   "id": "bizarre-formation",
   "metadata": {},
   "outputs": [],
   "source": [
    "# india_train_labels"
   ]
  },
  {
   "cell_type": "code",
   "execution_count": 260,
   "id": "brilliant-pointer",
   "metadata": {},
   "outputs": [],
   "source": [
    "train_features=train_data[['ordinal_date']]\n",
    "# train_fetures=train_data[['ordinal_date','delta_tested']]"
   ]
  },
  {
   "cell_type": "code",
   "execution_count": 261,
   "id": "single-gates",
   "metadata": {},
   "outputs": [
    {
     "data": {
      "text/html": [
       "<div>\n",
       "<style scoped>\n",
       "    .dataframe tbody tr th:only-of-type {\n",
       "        vertical-align: middle;\n",
       "    }\n",
       "\n",
       "    .dataframe tbody tr th {\n",
       "        vertical-align: top;\n",
       "    }\n",
       "\n",
       "    .dataframe thead th {\n",
       "        text-align: right;\n",
       "    }\n",
       "</style>\n",
       "<table border=\"1\" class=\"dataframe\">\n",
       "  <thead>\n",
       "    <tr style=\"text-align: right;\">\n",
       "      <th></th>\n",
       "      <th>ordinal_date</th>\n",
       "    </tr>\n",
       "  </thead>\n",
       "  <tbody>\n",
       "    <tr>\n",
       "      <th>0</th>\n",
       "      <td>737541</td>\n",
       "    </tr>\n",
       "    <tr>\n",
       "      <th>1</th>\n",
       "      <td>737542</td>\n",
       "    </tr>\n",
       "    <tr>\n",
       "      <th>2</th>\n",
       "      <td>737543</td>\n",
       "    </tr>\n",
       "    <tr>\n",
       "      <th>3</th>\n",
       "      <td>737544</td>\n",
       "    </tr>\n",
       "    <tr>\n",
       "      <th>4</th>\n",
       "      <td>737545</td>\n",
       "    </tr>\n",
       "    <tr>\n",
       "      <th>...</th>\n",
       "      <td>...</td>\n",
       "    </tr>\n",
       "    <tr>\n",
       "      <th>510</th>\n",
       "      <td>738051</td>\n",
       "    </tr>\n",
       "    <tr>\n",
       "      <th>511</th>\n",
       "      <td>738052</td>\n",
       "    </tr>\n",
       "    <tr>\n",
       "      <th>512</th>\n",
       "      <td>738053</td>\n",
       "    </tr>\n",
       "    <tr>\n",
       "      <th>513</th>\n",
       "      <td>738054</td>\n",
       "    </tr>\n",
       "    <tr>\n",
       "      <th>514</th>\n",
       "      <td>738055</td>\n",
       "    </tr>\n",
       "  </tbody>\n",
       "</table>\n",
       "<p>515 rows × 1 columns</p>\n",
       "</div>"
      ],
      "text/plain": [
       "     ordinal_date\n",
       "0          737541\n",
       "1          737542\n",
       "2          737543\n",
       "3          737544\n",
       "4          737545\n",
       "..            ...\n",
       "510        738051\n",
       "511        738052\n",
       "512        738053\n",
       "513        738054\n",
       "514        738055\n",
       "\n",
       "[515 rows x 1 columns]"
      ]
     },
     "execution_count": 261,
     "metadata": {},
     "output_type": "execute_result"
    }
   ],
   "source": [
    "train_features"
   ]
  },
  {
   "cell_type": "code",
   "execution_count": 262,
   "id": "sonic-tuition",
   "metadata": {},
   "outputs": [],
   "source": [
    "# train_labels"
   ]
  },
  {
   "cell_type": "code",
   "execution_count": 263,
   "id": "original-advance",
   "metadata": {},
   "outputs": [],
   "source": [
    "test_labels=test_data[type_of_case]\n",
    "# test_labels=test_data['total_confirmed']"
   ]
  },
  {
   "cell_type": "code",
   "execution_count": 264,
   "id": "innocent-barcelona",
   "metadata": {},
   "outputs": [],
   "source": [
    "# test_labels"
   ]
  },
  {
   "cell_type": "code",
   "execution_count": 265,
   "id": "figured-receiver",
   "metadata": {},
   "outputs": [],
   "source": [
    "test_features=test_data[['ordinal_date']]\n",
    "# test_features=test_data[['ordinal_date','delta_tested']]"
   ]
  },
  {
   "cell_type": "code",
   "execution_count": 266,
   "id": "negative-bahamas",
   "metadata": {},
   "outputs": [],
   "source": [
    "# test_features"
   ]
  },
  {
   "cell_type": "code",
   "execution_count": null,
   "id": "pressing-exclusive",
   "metadata": {},
   "outputs": [],
   "source": []
  },
  {
   "cell_type": "code",
   "execution_count": 267,
   "id": "powerful-parameter",
   "metadata": {},
   "outputs": [],
   "source": [
    "# print(predictingdate)\n",
    "# print(daterange)"
   ]
  },
  {
   "cell_type": "code",
   "execution_count": null,
   "id": "aggregate-federal",
   "metadata": {},
   "outputs": [],
   "source": []
  },
  {
   "cell_type": "markdown",
   "id": "intensive-spending",
   "metadata": {},
   "source": [
    "## Model Implementation \n",
    "1. Linear Regression\n",
    "2. Random Forest Regression\n",
    "3. Decision Tree Regression\n",
    "4. Extra Tree Regression"
   ]
  },
  {
   "cell_type": "code",
   "execution_count": 268,
   "id": "aboriginal-jewelry",
   "metadata": {},
   "outputs": [],
   "source": [
    "linear_regression_model=LinearRegression()\n",
    "random_forest_model=RandomForestRegressor()\n",
    "decision_tree_model=DecisionTreeRegressor()\n",
    "extra_tree_model=ExtraTreeRegressor()"
   ]
  },
  {
   "cell_type": "code",
   "execution_count": null,
   "id": "coordinate-sharp",
   "metadata": {},
   "outputs": [],
   "source": []
  },
  {
   "cell_type": "markdown",
   "id": "passing-japanese",
   "metadata": {},
   "source": [
    "#### Linear regression"
   ]
  },
  {
   "cell_type": "code",
   "execution_count": 26,
   "id": "martial-snake",
   "metadata": {},
   "outputs": [
    {
     "data": {
      "text/plain": [
       "LinearRegression()"
      ]
     },
     "execution_count": 26,
     "metadata": {},
     "output_type": "execute_result"
    }
   ],
   "source": [
    "linear_regression_model.fit(train_features,train_labels)"
   ]
  },
  {
   "cell_type": "code",
   "execution_count": 27,
   "id": "loose-fluid",
   "metadata": {},
   "outputs": [],
   "source": [
    "linear_regression_model_train_predicted=linear_regression_model.predict(train_features)"
   ]
  },
  {
   "cell_type": "code",
   "execution_count": 28,
   "id": "random-madness",
   "metadata": {},
   "outputs": [],
   "source": [
    "# linear_regression_model_train_predicted"
   ]
  },
  {
   "cell_type": "code",
   "execution_count": 29,
   "id": "productive-radar",
   "metadata": {},
   "outputs": [],
   "source": [
    "linear_regression_model_test_predicted=linear_regression_model.predict(test_features)"
   ]
  },
  {
   "cell_type": "code",
   "execution_count": 30,
   "id": "attempted-soldier",
   "metadata": {},
   "outputs": [],
   "source": [
    "# linear_regression_model_test_predicted"
   ]
  },
  {
   "cell_type": "code",
   "execution_count": 31,
   "id": "photographic-poetry",
   "metadata": {},
   "outputs": [],
   "source": [
    "linear_regression_model_next_7_days_predicted=linear_regression_model.predict(predictingdate)"
   ]
  },
  {
   "cell_type": "code",
   "execution_count": 32,
   "id": "nominated-programming",
   "metadata": {},
   "outputs": [],
   "source": [
    "# linear_regression_model_next_7_days_predicted"
   ]
  },
  {
   "cell_type": "code",
   "execution_count": 33,
   "id": "earlier-terrorist",
   "metadata": {},
   "outputs": [],
   "source": [
    "pyplot.figure('linear regression')\n",
    "line_of_regression=numpy.concatenate((linear_regression_model_train_predicted,linear_regression_model_test_predicted))\n",
    "pyplot.plot(maindata['date'],maindata_labels,label='Original Data')\n",
    "pyplot.plot(maindata['date'],line_of_regression,label='Line of Regression')\n",
    "pyplot.plot(train_data['date'],linear_regression_model_train_predicted,label='Train Data')\n",
    "pyplot.plot(test_data['date'],linear_regression_model_test_predicted,label='Test Data')\n",
    "pyplot.plot(daterange,linear_regression_model_next_7_days_predicted,label='Future Prediction')\n",
    "pyplot.legend()\n",
    "pyplot.show()"
   ]
  },
  {
   "cell_type": "code",
   "execution_count": null,
   "id": "given-soldier",
   "metadata": {},
   "outputs": [],
   "source": []
  },
  {
   "cell_type": "markdown",
   "id": "infinite-commission",
   "metadata": {},
   "source": [
    "#### Ramdom Forest Regression regression"
   ]
  },
  {
   "cell_type": "code",
   "execution_count": 34,
   "id": "amended-velvet",
   "metadata": {},
   "outputs": [
    {
     "data": {
      "text/plain": [
       "RandomForestRegressor()"
      ]
     },
     "execution_count": 34,
     "metadata": {},
     "output_type": "execute_result"
    }
   ],
   "source": [
    "random_forest_model.fit(train_features,train_labels)"
   ]
  },
  {
   "cell_type": "code",
   "execution_count": 35,
   "id": "opened-trademark",
   "metadata": {},
   "outputs": [],
   "source": [
    "random_forest_model_train_predicted=random_forest_model.predict(train_features)"
   ]
  },
  {
   "cell_type": "code",
   "execution_count": 36,
   "id": "biblical-indianapolis",
   "metadata": {},
   "outputs": [],
   "source": [
    "# random_forest_model_train_predicted"
   ]
  },
  {
   "cell_type": "code",
   "execution_count": 37,
   "id": "prostate-company",
   "metadata": {},
   "outputs": [],
   "source": [
    "random_forest_model_test_predicted=random_forest_model.predict(test_features)"
   ]
  },
  {
   "cell_type": "code",
   "execution_count": 38,
   "id": "renewable-message",
   "metadata": {},
   "outputs": [],
   "source": [
    "# random_forest_model_test_predicted"
   ]
  },
  {
   "cell_type": "code",
   "execution_count": 39,
   "id": "wanted-messenger",
   "metadata": {},
   "outputs": [],
   "source": [
    "random_forest_model_next_7_days_predicted=random_forest_model.predict(predictingdate)"
   ]
  },
  {
   "cell_type": "code",
   "execution_count": 40,
   "id": "severe-benchmark",
   "metadata": {},
   "outputs": [],
   "source": [
    "# random_forest_model_next_7_days_predicted"
   ]
  },
  {
   "cell_type": "code",
   "execution_count": 41,
   "id": "classified-introduction",
   "metadata": {},
   "outputs": [],
   "source": [
    "pyplot.figure('random forest regression')\n",
    "pyplot.plot(maindata['date'],maindata_labels,label='Original Data')\n",
    "pyplot.plot(train_data['date'],random_forest_model_train_predicted,label='Train Data')\n",
    "pyplot.plot(test_data['date'],random_forest_model_test_predicted,label='Test Data')\n",
    "pyplot.plot(daterange,random_forest_model_next_7_days_predicted,label='Future Prediction')\n",
    "pyplot.legend()\n",
    "pyplot.show()"
   ]
  },
  {
   "cell_type": "code",
   "execution_count": null,
   "id": "further-format",
   "metadata": {},
   "outputs": [],
   "source": []
  },
  {
   "cell_type": "markdown",
   "id": "serious-wagner",
   "metadata": {},
   "source": [
    "#### Decision Tree regression"
   ]
  },
  {
   "cell_type": "code",
   "execution_count": 42,
   "id": "herbal-truck",
   "metadata": {},
   "outputs": [
    {
     "data": {
      "text/plain": [
       "DecisionTreeRegressor()"
      ]
     },
     "execution_count": 42,
     "metadata": {},
     "output_type": "execute_result"
    }
   ],
   "source": [
    "decision_tree_model.fit(train_features,train_labels)"
   ]
  },
  {
   "cell_type": "code",
   "execution_count": 43,
   "id": "current-admission",
   "metadata": {},
   "outputs": [],
   "source": [
    "decision_tree_model_train_predicted=decision_tree_model.predict(train_features)"
   ]
  },
  {
   "cell_type": "code",
   "execution_count": 44,
   "id": "atomic-terror",
   "metadata": {},
   "outputs": [],
   "source": [
    "# decision_tree_model_train_predicted"
   ]
  },
  {
   "cell_type": "code",
   "execution_count": 45,
   "id": "several-supervisor",
   "metadata": {},
   "outputs": [],
   "source": [
    "decision_tree_model_test_predicted=decision_tree_model.predict(test_features)"
   ]
  },
  {
   "cell_type": "code",
   "execution_count": 46,
   "id": "marine-verse",
   "metadata": {},
   "outputs": [],
   "source": [
    "# decision_tree_model_test_predicted"
   ]
  },
  {
   "cell_type": "code",
   "execution_count": 47,
   "id": "anonymous-architecture",
   "metadata": {},
   "outputs": [],
   "source": [
    "decision_tree_model_next_y_days_predicted=decision_tree_model.predict(predictingdate)"
   ]
  },
  {
   "cell_type": "code",
   "execution_count": 48,
   "id": "unusual-solomon",
   "metadata": {},
   "outputs": [],
   "source": [
    "# decision_tree_model_next_y_days_predicted"
   ]
  },
  {
   "cell_type": "code",
   "execution_count": 49,
   "id": "nervous-nature",
   "metadata": {},
   "outputs": [],
   "source": [
    "pyplot.figure('Decision tree regression')\n",
    "pyplot.plot(maindata['date'],maindata_labels,label='Original Data')\n",
    "pyplot.plot(train_data['date'],decision_tree_model_train_predicted,label='Train Data')\n",
    "pyplot.plot(test_data['date'],decision_tree_model_test_predicted,label='Test Data')\n",
    "pyplot.plot(daterange,decision_tree_model_next_y_days_predicted,label='Future Prediction')\n",
    "pyplot.legend()\n",
    "pyplot.show()"
   ]
  },
  {
   "cell_type": "code",
   "execution_count": null,
   "id": "dated-stock",
   "metadata": {},
   "outputs": [],
   "source": []
  },
  {
   "cell_type": "markdown",
   "id": "minimal-nursing",
   "metadata": {},
   "source": [
    "#### Extra Tree regression"
   ]
  },
  {
   "cell_type": "code",
   "execution_count": 50,
   "id": "helpful-adobe",
   "metadata": {},
   "outputs": [
    {
     "data": {
      "text/plain": [
       "ExtraTreeRegressor()"
      ]
     },
     "execution_count": 50,
     "metadata": {},
     "output_type": "execute_result"
    }
   ],
   "source": [
    "extra_tree_model.fit(train_features,train_labels)"
   ]
  },
  {
   "cell_type": "code",
   "execution_count": 51,
   "id": "variable-congress",
   "metadata": {},
   "outputs": [],
   "source": [
    "extra_tree_model_train_predicted=extra_tree_model.predict(train_features)"
   ]
  },
  {
   "cell_type": "code",
   "execution_count": 52,
   "id": "biological-blanket",
   "metadata": {},
   "outputs": [],
   "source": [
    "# extra_tree_model_train_predicted"
   ]
  },
  {
   "cell_type": "code",
   "execution_count": 53,
   "id": "lasting-native",
   "metadata": {},
   "outputs": [],
   "source": [
    "extra_tree_model_test_predicted=extra_tree_model.predict(test_features)"
   ]
  },
  {
   "cell_type": "code",
   "execution_count": 54,
   "id": "latest-criticism",
   "metadata": {},
   "outputs": [],
   "source": [
    "# extra_tree_model_test_predicted"
   ]
  },
  {
   "cell_type": "code",
   "execution_count": 55,
   "id": "negative-literature",
   "metadata": {},
   "outputs": [],
   "source": [
    "extra_tree_model_next_7_days_predicted=extra_tree_model.predict(predictingdate)"
   ]
  },
  {
   "cell_type": "code",
   "execution_count": 56,
   "id": "duplicate-recall",
   "metadata": {},
   "outputs": [],
   "source": [
    "# extra_tree_model_next_7_days_predicted"
   ]
  },
  {
   "cell_type": "code",
   "execution_count": 57,
   "id": "blond-berry",
   "metadata": {},
   "outputs": [],
   "source": [
    "pyplot.figure('Extra tree regression')\n",
    "pyplot.plot(maindata['date'],maindata_labels,label='Original Data')\n",
    "pyplot.plot(train_data['date'],extra_tree_model_train_predicted,label='Train Data')\n",
    "pyplot.plot(test_data['date'],extra_tree_model_test_predicted,label='Test Data')\n",
    "pyplot.plot(daterange,extra_tree_model_next_7_days_predicted,label='Future Prediction')\n",
    "pyplot.legend()\n",
    "pyplot.show()"
   ]
  },
  {
   "cell_type": "code",
   "execution_count": null,
   "id": "funky-swift",
   "metadata": {},
   "outputs": [],
   "source": []
  },
  {
   "cell_type": "markdown",
   "id": "secondary-greeting",
   "metadata": {},
   "source": [
    "## Evaluation\n",
    "    model\n",
    "    train : mean_absolute_error     root_mean_squared_error\n",
    "    test :  mean_absolute_error     root_mean_squared_error"
   ]
  },
  {
   "cell_type": "code",
   "execution_count": 58,
   "id": "accepting-irish",
   "metadata": {},
   "outputs": [
    {
     "name": "stdout",
     "output_type": "stream",
     "text": [
      "linear regrassion\n",
      "283.0350918400663 367.4276928101792\n",
      "411.59635891780175 412.09389937938204\n"
     ]
    }
   ],
   "source": [
    "print('linear regrassion')\n",
    "print(mean_absolute_error(linear_regression_model_train_predicted,train_labels),numpy.sqrt(mean_squared_error(linear_regression_model_train_predicted,train_labels)))\n",
    "print(mean_absolute_error(linear_regression_model_test_predicted,test_labels),numpy.sqrt(mean_squared_error(linear_regression_model_test_predicted,test_labels)))"
   ]
  },
  {
   "cell_type": "code",
   "execution_count": 59,
   "id": "ultimate-montreal",
   "metadata": {},
   "outputs": [
    {
     "name": "stdout",
     "output_type": "stream",
     "text": [
      "random forest regrassion\n",
      "25.419165048543686 46.45228872265408\n",
      "16.733636363636364 20.096254513081423\n"
     ]
    }
   ],
   "source": [
    "print('random forest regrassion')\n",
    "print(mean_absolute_error(random_forest_model_train_predicted,train_labels),numpy.sqrt(mean_squared_error(random_forest_model_train_predicted,train_labels)))\n",
    "print(mean_absolute_error(random_forest_model_test_predicted,test_labels),numpy.sqrt(mean_squared_error(random_forest_model_test_predicted,test_labels)))"
   ]
  },
  {
   "cell_type": "code",
   "execution_count": 60,
   "id": "attractive-lightning",
   "metadata": {},
   "outputs": [
    {
     "name": "stdout",
     "output_type": "stream",
     "text": [
      "Decision Tree regression\n",
      "0.0 0.0\n",
      "17.545454545454547 22.98813923427787\n"
     ]
    }
   ],
   "source": [
    "print('Decision Tree regression')\n",
    "print(mean_absolute_error(decision_tree_model_train_predicted,train_labels),numpy.sqrt(mean_squared_error(decision_tree_model_train_predicted,train_labels)))\n",
    "print(mean_absolute_error(decision_tree_model_test_predicted,test_labels),numpy.sqrt(mean_squared_error(decision_tree_model_test_predicted,test_labels)))"
   ]
  },
  {
   "cell_type": "code",
   "execution_count": 61,
   "id": "greenhouse-billion",
   "metadata": {},
   "outputs": [
    {
     "name": "stdout",
     "output_type": "stream",
     "text": [
      "Extra Tree Regression\n",
      "0.0 0.0\n",
      "17.545454545454547 22.98813923427787\n"
     ]
    }
   ],
   "source": [
    "print('Extra Tree Regression')\n",
    "print(mean_absolute_error(extra_tree_model_train_predicted,train_labels),numpy.sqrt(mean_squared_error(extra_tree_model_train_predicted,train_labels)))\n",
    "print(mean_absolute_error(extra_tree_model_test_predicted,test_labels),numpy.sqrt(mean_squared_error(extra_tree_model_test_predicted,test_labels)))"
   ]
  },
  {
   "cell_type": "code",
   "execution_count": null,
   "id": "hollywood-hazard",
   "metadata": {},
   "outputs": [],
   "source": []
  },
  {
   "cell_type": "code",
   "execution_count": null,
   "id": "wicked-there",
   "metadata": {},
   "outputs": [],
   "source": []
  },
  {
   "cell_type": "markdown",
   "id": "bridal-macedonia",
   "metadata": {},
   "source": [
    "## Polynomial Regression"
   ]
  },
  {
   "cell_type": "code",
   "execution_count": 62,
   "id": "arbitrary-edition",
   "metadata": {},
   "outputs": [],
   "source": [
    "# pyplot.scatter(train_features,train_labels)"
   ]
  },
  {
   "cell_type": "code",
   "execution_count": null,
   "id": "worse-terrorism",
   "metadata": {},
   "outputs": [],
   "source": []
  },
  {
   "cell_type": "code",
   "execution_count": 63,
   "id": "negative-density",
   "metadata": {
    "scrolled": true
   },
   "outputs": [],
   "source": [
    "def polynomial_regrassion_model(degree_of_equation=1):\n",
    "    polynomial=PolynomialFeatures(degree=degree_of_equation)\n",
    "    polynomial_train_data=polynomial.fit_transform(train_features.to_numpy())\n",
    "    polynomial_test_data=polynomial.fit_transform(test_features.to_numpy())\n",
    "    polynomial_future_test_data=polynomial.fit_transform(predictingdate)\n",
    "    polynomial_regression=LinearRegression()\n",
    "    polynomial_regression.fit(polynomial_train_data,train_labels)\n",
    "    polynomial_regression_model_train_predicted=polynomial_regression.predict(polynomial_train_data)\n",
    "    polynomial_regression_model_test_predicted=polynomial_regression.predict(polynomial_test_data)\n",
    "    polynomial_regression_model_nest_7_days_predicted=polynomial_regression.predict(polynomial_future_test_data)\n",
    "#     print('Train Data Prediction')\n",
    "#     print(polynomial_regression_model_train_predicted)\n",
    "#     print('\\n\\n\\nTest Data Prediction')\n",
    "#     print(polynomial_regression_model_test_predicted)\n",
    "#     print('\\n\\n\\nFuture Data Prediction')\n",
    "#     print(polynomial_regression_model_nest_7_days_predicted)\n",
    "#     print('\\n\\n\\n')\n",
    "    print('{} degree Polynomial regression'.format(degree_of_equation))\n",
    "    print(mean_absolute_error(polynomial_regression_model_train_predicted,train_labels),numpy.sqrt(mean_squared_error(polynomial_regression_model_train_predicted,train_labels)))\n",
    "    print(mean_absolute_error(polynomial_regression_model_test_predicted,test_labels),numpy.sqrt(mean_squared_error(polynomial_regression_model_test_predicted,test_labels)))\n",
    "    pyplot.figure('{} degree Polynomial regression'.format(degree_of_equation))\n",
    "    pyplot.plot(maindata['date'],maindata_labels,label='Original Data')\n",
    "    pyplot.plot(train_data['date'],polynomial_regression_model_train_predicted,label='Train Data')\n",
    "    pyplot.plot(test_data['date'],polynomial_regression_model_test_predicted,label='Test Data')\n",
    "    pyplot.plot(daterange,polynomial_regression_model_nest_7_days_predicted,label='Future Prediction')\n",
    "    pyplot.legend()\n",
    "    pyplot.show()"
   ]
  },
  {
   "cell_type": "code",
   "execution_count": null,
   "id": "latest-questionnaire",
   "metadata": {},
   "outputs": [],
   "source": []
  },
  {
   "cell_type": "code",
   "execution_count": 64,
   "id": "vocal-hazard",
   "metadata": {
    "scrolled": true
   },
   "outputs": [],
   "source": [
    "# polynomial_regrassion_model()"
   ]
  },
  {
   "cell_type": "code",
   "execution_count": 65,
   "id": "curious-product",
   "metadata": {
    "scrolled": true
   },
   "outputs": [
    {
     "name": "stdout",
     "output_type": "stream",
     "text": [
      "2 degree Polynomial regression\n",
      "276.3802224159241 361.48684801385497\n",
      "254.8866225155917 255.54079606195526\n"
     ]
    }
   ],
   "source": [
    "polynomial_regrassion_model(2)"
   ]
  },
  {
   "cell_type": "code",
   "execution_count": 66,
   "id": "artificial-capacity",
   "metadata": {
    "scrolled": false
   },
   "outputs": [
    {
     "name": "stdout",
     "output_type": "stream",
     "text": [
      "3 degree Polynomial regression\n",
      "276.379019039117 361.48503288328817\n",
      "254.83921189741656 255.4934679097837\n"
     ]
    }
   ],
   "source": [
    "polynomial_regrassion_model(3)"
   ]
  },
  {
   "cell_type": "code",
   "execution_count": 67,
   "id": "unauthorized-testing",
   "metadata": {},
   "outputs": [
    {
     "name": "stdout",
     "output_type": "stream",
     "text": [
      "4 degree Polynomial regression\n",
      "276.3778160245673 361.48321684386343\n",
      "254.79218472675845 255.44652233877613\n"
     ]
    }
   ],
   "source": [
    "polynomial_regrassion_model(4)"
   ]
  },
  {
   "cell_type": "code",
   "execution_count": 68,
   "id": "convenient-dinner",
   "metadata": {},
   "outputs": [
    {
     "name": "stdout",
     "output_type": "stream",
     "text": [
      "5 degree Polynomial regression\n",
      "276.3766113303819 361.48139988331945\n",
      "254.745138626207 255.39955791442463\n"
     ]
    }
   ],
   "source": [
    "polynomial_regrassion_model(5)"
   ]
  },
  {
   "cell_type": "code",
   "execution_count": 69,
   "id": "amended-traffic",
   "metadata": {},
   "outputs": [
    {
     "name": "stdout",
     "output_type": "stream",
     "text": [
      "6 degree Polynomial regression\n",
      "276.37540626441967 361.4795820176879\n",
      "254.6980803310871 255.35258136262445\n"
     ]
    }
   ],
   "source": [
    "polynomial_regrassion_model(6)"
   ]
  },
  {
   "cell_type": "code",
   "execution_count": null,
   "id": "binding-negative",
   "metadata": {},
   "outputs": [],
   "source": []
  },
  {
   "cell_type": "code",
   "execution_count": null,
   "id": "hungarian-guidance",
   "metadata": {},
   "outputs": [],
   "source": []
  },
  {
   "cell_type": "markdown",
   "id": "civilian-testament",
   "metadata": {},
   "source": [
    "# Forcasting Models"
   ]
  },
  {
   "cell_type": "code",
   "execution_count": 269,
   "id": "lined-equity",
   "metadata": {},
   "outputs": [],
   "source": [
    "forcasting_data_features=maindata[['date',type_of_case]]\n",
    "\n",
    "forcasting_train_data_features=train_data[['date',type_of_case]]\n",
    "\n",
    "forcasting_test_data_features=test_data[['date',type_of_case]]"
   ]
  },
  {
   "cell_type": "code",
   "execution_count": 270,
   "id": "historical-visiting",
   "metadata": {},
   "outputs": [
    {
     "name": "stderr",
     "output_type": "stream",
     "text": [
      "<ipython-input-270-7a0089d374bb>:1: SettingWithCopyWarning: \n",
      "A value is trying to be set on a copy of a slice from a DataFrame.\n",
      "Try using .loc[row_indexer,col_indexer] = value instead\n",
      "\n",
      "See the caveats in the documentation: https://pandas.pydata.org/pandas-docs/stable/user_guide/indexing.html#returning-a-view-versus-a-copy\n",
      "  forcasting_data_features['date']=pandas.to_datetime(forcasting_data_features['date'])\n",
      "<ipython-input-270-7a0089d374bb>:3: SettingWithCopyWarning: \n",
      "A value is trying to be set on a copy of a slice from a DataFrame.\n",
      "Try using .loc[row_indexer,col_indexer] = value instead\n",
      "\n",
      "See the caveats in the documentation: https://pandas.pydata.org/pandas-docs/stable/user_guide/indexing.html#returning-a-view-versus-a-copy\n",
      "  forcasting_train_data_features['date']=pandas.to_datetime(forcasting_train_data_features['date'])\n",
      "<ipython-input-270-7a0089d374bb>:5: SettingWithCopyWarning: \n",
      "A value is trying to be set on a copy of a slice from a DataFrame.\n",
      "Try using .loc[row_indexer,col_indexer] = value instead\n",
      "\n",
      "See the caveats in the documentation: https://pandas.pydata.org/pandas-docs/stable/user_guide/indexing.html#returning-a-view-versus-a-copy\n",
      "  forcasting_test_data_features['date']=pandas.to_datetime(forcasting_test_data_features['date'])\n"
     ]
    }
   ],
   "source": [
    "forcasting_data_features['date']=pandas.to_datetime(forcasting_data_features['date'])\n",
    "\n",
    "forcasting_train_data_features['date']=pandas.to_datetime(forcasting_train_data_features['date'])\n",
    "\n",
    "forcasting_test_data_features['date']=pandas.to_datetime(forcasting_test_data_features['date'])"
   ]
  },
  {
   "cell_type": "code",
   "execution_count": 271,
   "id": "strategic-carry",
   "metadata": {},
   "outputs": [],
   "source": [
    "forcasting_data_features=forcasting_data_features.set_index('date')\n",
    "\n",
    "forcasting_train_data_features=forcasting_train_data_features.set_index('date')\n",
    "\n",
    "forcasting_test_data_features=forcasting_test_data_features.set_index('date')"
   ]
  },
  {
   "cell_type": "code",
   "execution_count": 272,
   "id": "dependent-private",
   "metadata": {},
   "outputs": [],
   "source": [
    "# forcasting_data_features"
   ]
  },
  {
   "cell_type": "code",
   "execution_count": 273,
   "id": "cleared-spending",
   "metadata": {},
   "outputs": [],
   "source": [
    "# forcasting_train_data_features"
   ]
  },
  {
   "cell_type": "code",
   "execution_count": 274,
   "id": "arabic-camping",
   "metadata": {},
   "outputs": [],
   "source": [
    "# forcasting_test_data_features"
   ]
  },
  {
   "cell_type": "markdown",
   "id": "removable-ethics",
   "metadata": {},
   "source": [
    "## ARIMA model"
   ]
  },
  {
   "cell_type": "code",
   "execution_count": null,
   "id": "timely-battery",
   "metadata": {},
   "outputs": [],
   "source": []
  },
  {
   "cell_type": "code",
   "execution_count": 275,
   "id": "innocent-guatemala",
   "metadata": {},
   "outputs": [
    {
     "name": "stderr",
     "output_type": "stream",
     "text": [
      "C:\\Users\\Pankaj singh\\AppData\\Roaming\\Python\\Python39\\site-packages\\statsmodels\\tsa\\base\\tsa_model.py:524: ValueWarning: No frequency information was provided, so inferred frequency D will be used.\n",
      "  warnings.warn('No frequency information was'\n",
      "C:\\Users\\Pankaj singh\\AppData\\Roaming\\Python\\Python39\\site-packages\\statsmodels\\tsa\\base\\tsa_model.py:524: ValueWarning: No frequency information was provided, so inferred frequency D will be used.\n",
      "  warnings.warn('No frequency information was'\n",
      "C:\\Users\\Pankaj singh\\AppData\\Roaming\\Python\\Python39\\site-packages\\statsmodels\\tsa\\base\\tsa_model.py:524: ValueWarning: No frequency information was provided, so inferred frequency D will be used.\n",
      "  warnings.warn('No frequency information was'\n",
      "C:\\Users\\Pankaj singh\\AppData\\Roaming\\Python\\Python39\\site-packages\\statsmodels\\tsa\\base\\tsa_model.py:524: ValueWarning: No frequency information was provided, so inferred frequency D will be used.\n",
      "  warnings.warn('No frequency information was'\n",
      "C:\\Users\\Pankaj singh\\AppData\\Roaming\\Python\\Python39\\site-packages\\statsmodels\\tsa\\base\\tsa_model.py:524: ValueWarning: No frequency information was provided, so inferred frequency D will be used.\n",
      "  warnings.warn('No frequency information was'\n",
      "C:\\Users\\Pankaj singh\\AppData\\Roaming\\Python\\Python39\\site-packages\\statsmodels\\tsa\\base\\tsa_model.py:524: ValueWarning: No frequency information was provided, so inferred frequency D will be used.\n",
      "  warnings.warn('No frequency information was'\n"
     ]
    }
   ],
   "source": [
    "main_arima_model = ARIMA(forcasting_data_features,order=(5,0,3))\n",
    "train_arima_model = ARIMA(forcasting_train_data_features,order=(5,0,3))"
   ]
  },
  {
   "cell_type": "code",
   "execution_count": 276,
   "id": "accurate-return",
   "metadata": {},
   "outputs": [
    {
     "name": "stderr",
     "output_type": "stream",
     "text": [
      "C:\\Users\\Pankaj singh\\AppData\\Roaming\\Python\\Python39\\site-packages\\statsmodels\\tsa\\statespace\\sarimax.py:966: UserWarning: Non-stationary starting autoregressive parameters found. Using zeros as starting parameters.\n",
      "  warn('Non-stationary starting autoregressive parameters'\n",
      "C:\\Users\\Pankaj singh\\AppData\\Roaming\\Python\\Python39\\site-packages\\statsmodels\\tsa\\statespace\\sarimax.py:978: UserWarning: Non-invertible starting MA parameters found. Using zeros as starting parameters.\n",
      "  warn('Non-invertible starting MA parameters found.'\n",
      "C:\\Users\\Pankaj singh\\AppData\\Roaming\\Python\\Python39\\site-packages\\statsmodels\\base\\model.py:566: ConvergenceWarning: Maximum Likelihood optimization failed to converge. Check mle_retvals\n",
      "  warnings.warn(\"Maximum Likelihood optimization failed to \"\n",
      "C:\\Users\\Pankaj singh\\AppData\\Roaming\\Python\\Python39\\site-packages\\statsmodels\\base\\model.py:566: ConvergenceWarning: Maximum Likelihood optimization failed to converge. Check mle_retvals\n",
      "  warnings.warn(\"Maximum Likelihood optimization failed to \"\n"
     ]
    }
   ],
   "source": [
    "main_arima_fit_model=main_arima_model.fit()\n",
    "train_arima_fit_model=train_arima_model.fit()"
   ]
  },
  {
   "cell_type": "code",
   "execution_count": 277,
   "id": "entire-turtle",
   "metadata": {},
   "outputs": [],
   "source": [
    "main_arima_fit_model_predicted=main_arima_fit_model.predict()\n",
    "train_arima_fit_model_predicted=train_arima_fit_model.predict()\n",
    "test_arima_predicted=train_arima_fit_model.forecast(steps=len(forcasting_test_data_features))"
   ]
  },
  {
   "cell_type": "code",
   "execution_count": 278,
   "id": "variable-ownership",
   "metadata": {
    "scrolled": false
   },
   "outputs": [],
   "source": [
    "arima_model_forcast=main_arima_fit_model.forecast(steps=7)"
   ]
  },
  {
   "cell_type": "code",
   "execution_count": 279,
   "id": "surprising-roulette",
   "metadata": {},
   "outputs": [
    {
     "data": {
      "text/plain": [
       "2021-10-04     878.345062\n",
       "2021-10-05     899.033777\n",
       "2021-10-06     929.104547\n",
       "2021-10-07     960.397664\n",
       "2021-10-08     996.129196\n",
       "2021-10-09    1035.665138\n",
       "2021-10-10    1077.042376\n",
       "Freq: D, Name: predicted_mean, dtype: float64"
      ]
     },
     "execution_count": 279,
     "metadata": {},
     "output_type": "execute_result"
    }
   ],
   "source": [
    "# main_arima_fit_model_predicted\n",
    "# train_arima_fit_model_predicted\n",
    "# test_arima_predicted\n",
    "arima_model_forcast"
   ]
  },
  {
   "cell_type": "code",
   "execution_count": 280,
   "id": "adjacent-metallic",
   "metadata": {},
   "outputs": [],
   "source": [
    "pyplot.figure('ARIMA model Forcasting')\n",
    "pyplot.plot(maindata['date'],maindata_labels,label='Original Data')\n",
    "pyplot.plot(train_data['date'],train_arima_fit_model_predicted,label='Train Data')\n",
    "pyplot.plot(test_data['date'],test_arima_predicted,label='Test Data')\n",
    "pyplot.plot(daterange,arima_model_forcast,label='ARIMA Future Prediction')\n",
    "pyplot.legend()\n",
    "pyplot.show()"
   ]
  },
  {
   "cell_type": "code",
   "execution_count": null,
   "id": "surface-niagara",
   "metadata": {},
   "outputs": [],
   "source": []
  },
  {
   "cell_type": "code",
   "execution_count": 281,
   "id": "alleged-intersection",
   "metadata": {},
   "outputs": [
    {
     "name": "stdout",
     "output_type": "stream",
     "text": [
      "187.97520084959203 330.6529900635204\n",
      "328.23459356700005 409.7804803869859\n"
     ]
    }
   ],
   "source": [
    "print(mean_absolute_error(train_arima_fit_model_predicted,train_labels),numpy.sqrt(mean_squared_error(train_arima_fit_model_predicted,train_labels)))\n",
    "print(mean_absolute_error(test_arima_predicted,test_labels),numpy.sqrt(mean_squared_error(test_arima_predicted,test_labels)))\n",
    "    "
   ]
  },
  {
   "cell_type": "code",
   "execution_count": null,
   "id": "british-aaron",
   "metadata": {},
   "outputs": [],
   "source": []
  },
  {
   "cell_type": "code",
   "execution_count": null,
   "id": "cultural-fiction",
   "metadata": {},
   "outputs": [],
   "source": []
  },
  {
   "cell_type": "code",
   "execution_count": null,
   "id": "younger-arrow",
   "metadata": {},
   "outputs": [],
   "source": []
  },
  {
   "cell_type": "code",
   "execution_count": 282,
   "id": "athletic-composite",
   "metadata": {},
   "outputs": [],
   "source": [
    "try_arima_labels=numpy.concatenate((maindata_labels,arima_model_forcast))"
   ]
  },
  {
   "cell_type": "code",
   "execution_count": 283,
   "id": "conventional-glenn",
   "metadata": {},
   "outputs": [
    {
     "data": {
      "text/plain": [
       "array([ 878.34506233,  899.03377707,  929.10454693,  960.39766379,\n",
       "        996.12919606, 1035.66513754, 1077.04237564])"
      ]
     },
     "execution_count": 283,
     "metadata": {},
     "output_type": "execute_result"
    }
   ],
   "source": [
    "try_arima_labels[-7:]"
   ]
  },
  {
   "cell_type": "code",
   "execution_count": 284,
   "id": "foreign-karma",
   "metadata": {
    "scrolled": true
   },
   "outputs": [
    {
     "data": {
      "text/plain": [
       "RandomForestRegressor()"
      ]
     },
     "execution_count": 284,
     "metadata": {},
     "output_type": "execute_result"
    }
   ],
   "source": [
    "random_forest_model.fit(pandas.DataFrame(try_data),try_arima_labels)"
   ]
  },
  {
   "cell_type": "code",
   "execution_count": 285,
   "id": "separate-cardiff",
   "metadata": {},
   "outputs": [],
   "source": [
    "final_arima_model_forcast=random_forest_model.predict(pandas.DataFrame(try_data))[-7:]"
   ]
  },
  {
   "cell_type": "code",
   "execution_count": 286,
   "id": "determined-trinity",
   "metadata": {},
   "outputs": [
    {
     "data": {
      "text/plain": [
       "array([ 874.91874189,  894.47730333,  926.55777392,  956.42196822,\n",
       "        988.25968053, 1025.78611406, 1055.67847745])"
      ]
     },
     "execution_count": 286,
     "metadata": {},
     "output_type": "execute_result"
    }
   ],
   "source": [
    "final_arima_model_forcast"
   ]
  },
  {
   "cell_type": "code",
   "execution_count": null,
   "id": "southwest-zealand",
   "metadata": {},
   "outputs": [],
   "source": []
  },
  {
   "cell_type": "markdown",
   "id": "turkish-silence",
   "metadata": {},
   "source": [
    "## SARIMA model"
   ]
  },
  {
   "cell_type": "code",
   "execution_count": null,
   "id": "alpine-scope",
   "metadata": {},
   "outputs": [],
   "source": []
  },
  {
   "cell_type": "code",
   "execution_count": 287,
   "id": "adverse-promotion",
   "metadata": {},
   "outputs": [
    {
     "name": "stderr",
     "output_type": "stream",
     "text": [
      "C:\\Users\\Pankaj singh\\AppData\\Roaming\\Python\\Python39\\site-packages\\statsmodels\\tsa\\base\\tsa_model.py:524: ValueWarning: No frequency information was provided, so inferred frequency D will be used.\n",
      "  warnings.warn('No frequency information was'\n",
      "C:\\Users\\Pankaj singh\\AppData\\Roaming\\Python\\Python39\\site-packages\\statsmodels\\tsa\\base\\tsa_model.py:524: ValueWarning: No frequency information was provided, so inferred frequency D will be used.\n",
      "  warnings.warn('No frequency information was'\n",
      "C:\\Users\\Pankaj singh\\AppData\\Roaming\\Python\\Python39\\site-packages\\statsmodels\\tsa\\base\\tsa_model.py:524: ValueWarning: No frequency information was provided, so inferred frequency D will be used.\n",
      "  warnings.warn('No frequency information was'\n",
      "C:\\Users\\Pankaj singh\\AppData\\Roaming\\Python\\Python39\\site-packages\\statsmodels\\tsa\\base\\tsa_model.py:524: ValueWarning: No frequency information was provided, so inferred frequency D will be used.\n",
      "  warnings.warn('No frequency information was'\n",
      "C:\\Users\\Pankaj singh\\AppData\\Roaming\\Python\\Python39\\site-packages\\statsmodels\\tsa\\base\\tsa_model.py:524: ValueWarning: No frequency information was provided, so inferred frequency D will be used.\n",
      "  warnings.warn('No frequency information was'\n"
     ]
    }
   ],
   "source": [
    "main_sarima_model=SARIMAX(forcasting_data_features)\n",
    "train_sarima_model = ARIMA(forcasting_train_data_features,order=(5,0,3))"
   ]
  },
  {
   "cell_type": "code",
   "execution_count": 288,
   "id": "alive-klein",
   "metadata": {},
   "outputs": [
    {
     "name": "stderr",
     "output_type": "stream",
     "text": [
      "C:\\Users\\Pankaj singh\\AppData\\Roaming\\Python\\Python39\\site-packages\\statsmodels\\tsa\\statespace\\sarimax.py:966: UserWarning: Non-stationary starting autoregressive parameters found. Using zeros as starting parameters.\n",
      "  warn('Non-stationary starting autoregressive parameters'\n",
      "C:\\Users\\Pankaj singh\\AppData\\Roaming\\Python\\Python39\\site-packages\\statsmodels\\tsa\\statespace\\sarimax.py:978: UserWarning: Non-invertible starting MA parameters found. Using zeros as starting parameters.\n",
      "  warn('Non-invertible starting MA parameters found.'\n",
      "C:\\Users\\Pankaj singh\\AppData\\Roaming\\Python\\Python39\\site-packages\\statsmodels\\base\\model.py:566: ConvergenceWarning: Maximum Likelihood optimization failed to converge. Check mle_retvals\n",
      "  warnings.warn(\"Maximum Likelihood optimization failed to \"\n"
     ]
    }
   ],
   "source": [
    "main_sarima_fit_model=main_sarima_model.fit()\n",
    "train_sarima_fit_model=train_sarima_model.fit()"
   ]
  },
  {
   "cell_type": "code",
   "execution_count": 289,
   "id": "coated-north",
   "metadata": {},
   "outputs": [],
   "source": [
    "# sarima_model_fit.predict(590)\n",
    "main_sarima_fit_model_predicted=main_sarima_fit_model.predict()\n",
    "train_sarima_fit_model_predicted=train_sarima_fit_model.predict()\n",
    "test_sarima_predicted=train_sarima_fit_model.forecast(steps=len(forcasting_test_data_features))"
   ]
  },
  {
   "cell_type": "code",
   "execution_count": 290,
   "id": "musical-annex",
   "metadata": {
    "scrolled": true
   },
   "outputs": [],
   "source": [
    "sarima_model_forcast=main_sarima_fit_model.forecast(steps=7)"
   ]
  },
  {
   "cell_type": "code",
   "execution_count": 291,
   "id": "generous-blood",
   "metadata": {},
   "outputs": [
    {
     "data": {
      "text/plain": [
       "2021-10-04    851.328606\n",
       "2021-10-05    848.665569\n",
       "2021-10-06    846.010862\n",
       "2021-10-07    843.364459\n",
       "2021-10-08    840.726334\n",
       "2021-10-09    838.096461\n",
       "2021-10-10    835.474815\n",
       "Freq: D, Name: predicted_mean, dtype: float64"
      ]
     },
     "execution_count": 291,
     "metadata": {},
     "output_type": "execute_result"
    }
   ],
   "source": [
    "# main_sarima_fit_model_predicted\n",
    "# train_sarima_fit_model_predicted\n",
    "# test_sarima_predicted\n",
    "sarima_model_forcast"
   ]
  },
  {
   "cell_type": "code",
   "execution_count": 292,
   "id": "selective-russell",
   "metadata": {},
   "outputs": [],
   "source": [
    "pyplot.figure('SARIMA model Forcasting')\n",
    "pyplot.plot(maindata['date'],maindata_labels,label='Original Data')\n",
    "pyplot.plot(train_data['date'],train_sarima_fit_model_predicted,label='Train Data')\n",
    "pyplot.plot(test_data['date'],test_sarima_predicted,label='Test Data')\n",
    "pyplot.plot(daterange,sarima_model_forcast,label='SARIMA Future Prediction')\n",
    "pyplot.legend()\n",
    "pyplot.show()"
   ]
  },
  {
   "cell_type": "code",
   "execution_count": null,
   "id": "angry-approach",
   "metadata": {},
   "outputs": [],
   "source": []
  },
  {
   "cell_type": "code",
   "execution_count": 293,
   "id": "private-italic",
   "metadata": {},
   "outputs": [
    {
     "name": "stdout",
     "output_type": "stream",
     "text": [
      "187.97520084959203 330.6529900635204\n",
      "328.23459356700005 409.7804803869859\n"
     ]
    }
   ],
   "source": [
    "print(mean_absolute_error(train_sarima_fit_model_predicted,train_labels),numpy.sqrt(mean_squared_error(train_sarima_fit_model_predicted,train_labels)))\n",
    "print(mean_absolute_error(test_sarima_predicted,test_labels),numpy.sqrt(mean_squared_error(test_sarima_predicted,test_labels)))\n",
    "    "
   ]
  },
  {
   "cell_type": "code",
   "execution_count": null,
   "id": "supreme-classroom",
   "metadata": {},
   "outputs": [],
   "source": []
  },
  {
   "cell_type": "code",
   "execution_count": null,
   "id": "israeli-tamil",
   "metadata": {},
   "outputs": [],
   "source": []
  },
  {
   "cell_type": "code",
   "execution_count": 294,
   "id": "ahead-poetry",
   "metadata": {},
   "outputs": [],
   "source": [
    "try_sarima_labels=numpy.concatenate((maindata_labels,sarima_model_forcast))"
   ]
  },
  {
   "cell_type": "code",
   "execution_count": 295,
   "id": "funded-replacement",
   "metadata": {},
   "outputs": [
    {
     "data": {
      "text/plain": [
       "array([851.3286062 , 848.66556877, 846.01086158, 843.36445857,\n",
       "       840.72633376, 838.09646126, 835.47481525])"
      ]
     },
     "execution_count": 295,
     "metadata": {},
     "output_type": "execute_result"
    }
   ],
   "source": [
    "try_sarima_labels[-7:]"
   ]
  },
  {
   "cell_type": "code",
   "execution_count": 296,
   "id": "unusual-recorder",
   "metadata": {},
   "outputs": [
    {
     "data": {
      "text/plain": [
       "RandomForestRegressor()"
      ]
     },
     "execution_count": 296,
     "metadata": {},
     "output_type": "execute_result"
    }
   ],
   "source": [
    "random_forest_model.fit(pandas.DataFrame(try_data),try_sarima_labels)"
   ]
  },
  {
   "cell_type": "code",
   "execution_count": 297,
   "id": "deadly-economy",
   "metadata": {},
   "outputs": [],
   "source": [
    "final_sarima_model_forcast=random_forest_model.predict(pandas.DataFrame(try_data))[-7:]"
   ]
  },
  {
   "cell_type": "code",
   "execution_count": 298,
   "id": "embedded-concord",
   "metadata": {},
   "outputs": [
    {
     "data": {
      "text/plain": [
       "array([852.70050995, 849.14633087, 846.25127972, 844.05376612,\n",
       "       841.04414684, 838.8603611 , 837.31284957])"
      ]
     },
     "execution_count": 298,
     "metadata": {},
     "output_type": "execute_result"
    }
   ],
   "source": [
    "final_sarima_model_forcast"
   ]
  },
  {
   "cell_type": "code",
   "execution_count": null,
   "id": "korean-detector",
   "metadata": {},
   "outputs": [],
   "source": []
  },
  {
   "cell_type": "code",
   "execution_count": null,
   "id": "serious-location",
   "metadata": {},
   "outputs": [],
   "source": []
  },
  {
   "cell_type": "code",
   "execution_count": null,
   "id": "casual-focus",
   "metadata": {},
   "outputs": [],
   "source": []
  },
  {
   "cell_type": "markdown",
   "id": "fatal-dividend",
   "metadata": {},
   "source": [
    "## Final Model Forecast"
   ]
  },
  {
   "cell_type": "code",
   "execution_count": null,
   "id": "searching-windsor",
   "metadata": {},
   "outputs": [],
   "source": []
  },
  {
   "cell_type": "code",
   "execution_count": 299,
   "id": "undefined-weekend",
   "metadata": {},
   "outputs": [
    {
     "data": {
      "text/plain": [
       "array([ 874.91874189,  894.47730333,  926.55777392,  956.42196822,\n",
       "        988.25968053, 1025.78611406, 1055.67847745])"
      ]
     },
     "execution_count": 299,
     "metadata": {},
     "output_type": "execute_result"
    }
   ],
   "source": [
    "final_arima_model_forcast"
   ]
  },
  {
   "cell_type": "code",
   "execution_count": 300,
   "id": "alone-salon",
   "metadata": {},
   "outputs": [
    {
     "data": {
      "text/plain": [
       "array([852.70050995, 849.14633087, 846.25127972, 844.05376612,\n",
       "       841.04414684, 838.8603611 , 837.31284957])"
      ]
     },
     "execution_count": 300,
     "metadata": {},
     "output_type": "execute_result"
    }
   ],
   "source": [
    "final_sarima_model_forcast"
   ]
  },
  {
   "cell_type": "code",
   "execution_count": 301,
   "id": "alternative-philip",
   "metadata": {},
   "outputs": [],
   "source": [
    "final_data_forcast=(final_arima_model_forcast+final_sarima_model_forcast)/2"
   ]
  },
  {
   "cell_type": "code",
   "execution_count": 302,
   "id": "present-pioneer",
   "metadata": {
    "scrolled": true
   },
   "outputs": [
    {
     "data": {
      "text/plain": [
       "array([863.80962592, 871.8118171 , 886.40452682, 900.23786717,\n",
       "       914.65191369, 932.32323758, 946.49566351])"
      ]
     },
     "execution_count": 302,
     "metadata": {},
     "output_type": "execute_result"
    }
   ],
   "source": [
    "final_data_forcast"
   ]
  },
  {
   "cell_type": "code",
   "execution_count": null,
   "id": "tough-playlist",
   "metadata": {},
   "outputs": [],
   "source": []
  },
  {
   "cell_type": "code",
   "execution_count": 303,
   "id": "divided-communication",
   "metadata": {},
   "outputs": [],
   "source": [
    "final_forecast_labels=numpy.concatenate((maindata_labels,final_data_forcast))"
   ]
  },
  {
   "cell_type": "code",
   "execution_count": 304,
   "id": "dangerous-chapel",
   "metadata": {},
   "outputs": [
    {
     "data": {
      "text/plain": [
       "array([863.80962592, 871.8118171 , 886.40452682, 900.23786717,\n",
       "       914.65191369, 932.32323758, 946.49566351])"
      ]
     },
     "execution_count": 304,
     "metadata": {},
     "output_type": "execute_result"
    }
   ],
   "source": [
    "final_forecast_labels[-7:]"
   ]
  },
  {
   "cell_type": "code",
   "execution_count": 305,
   "id": "defined-english",
   "metadata": {},
   "outputs": [
    {
     "data": {
      "text/plain": [
       "RandomForestRegressor()"
      ]
     },
     "execution_count": 305,
     "metadata": {},
     "output_type": "execute_result"
    }
   ],
   "source": [
    "random_forest_model.fit(pandas.DataFrame(try_data),final_forecast_labels)"
   ]
  },
  {
   "cell_type": "code",
   "execution_count": 306,
   "id": "advance-homework",
   "metadata": {},
   "outputs": [],
   "source": [
    "final_model_forcast=random_forest_model.predict(pandas.DataFrame(try_data))[-7:]"
   ]
  },
  {
   "cell_type": "code",
   "execution_count": 307,
   "id": "similar-governor",
   "metadata": {},
   "outputs": [
    {
     "data": {
      "text/plain": [
       "array([860.21585748, 871.80911407, 884.27262727, 896.56849379,\n",
       "       912.05872188, 927.08990991, 938.84595007])"
      ]
     },
     "execution_count": 307,
     "metadata": {},
     "output_type": "execute_result"
    }
   ],
   "source": [
    "final_model_forcast"
   ]
  },
  {
   "cell_type": "code",
   "execution_count": null,
   "id": "velvet-english",
   "metadata": {},
   "outputs": [],
   "source": []
  },
  {
   "cell_type": "code",
   "execution_count": 308,
   "id": "radio-reform",
   "metadata": {},
   "outputs": [],
   "source": [
    "pyplot.figure('Final model Forcasting')\n",
    "pyplot.plot(maindata['date'],maindata_labels,label='Original Data')\n",
    "pyplot.plot(daterange,final_model_forcast,label='final Future {} Prediction'.format(name_of_case))\n",
    "pyplot.plot(daterange,sarima_model_forcast,label='SARIMA Future Prediction')\n",
    "pyplot.plot(daterange,arima_model_forcast,label='ARIMA Future Prediction')\n",
    "pyplot.legend()\n",
    "\n",
    "\n",
    "\n",
    "pyplot.show()"
   ]
  },
  {
   "cell_type": "code",
   "execution_count": null,
   "id": "handy-birthday",
   "metadata": {},
   "outputs": [],
   "source": []
  },
  {
   "cell_type": "code",
   "execution_count": null,
   "id": "together-space",
   "metadata": {},
   "outputs": [],
   "source": []
  },
  {
   "cell_type": "code",
   "execution_count": null,
   "id": "adaptive-trailer",
   "metadata": {},
   "outputs": [],
   "source": []
  },
  {
   "cell_type": "code",
   "execution_count": null,
   "id": "nearby-agreement",
   "metadata": {},
   "outputs": [],
   "source": []
  },
  {
   "cell_type": "markdown",
   "id": "treated-interim",
   "metadata": {},
   "source": [
    "## VAR Model"
   ]
  },
  {
   "cell_type": "code",
   "execution_count": 100,
   "id": "jewish-linux",
   "metadata": {},
   "outputs": [],
   "source": [
    "forcasting_data_features_for_VAR=maindata[['date','delta_confirmed','delta_vaccinated1','delta_vaccinated2']]\n",
    "forcasting_train_data_features_for_VAR=train_data[['date','delta_confirmed','delta_vaccinated1','delta_vaccinated2']]"
   ]
  },
  {
   "cell_type": "code",
   "execution_count": 101,
   "id": "opposite-browse",
   "metadata": {},
   "outputs": [
    {
     "data": {
      "text/html": [
       "<div>\n",
       "<style scoped>\n",
       "    .dataframe tbody tr th:only-of-type {\n",
       "        vertical-align: middle;\n",
       "    }\n",
       "\n",
       "    .dataframe tbody tr th {\n",
       "        vertical-align: top;\n",
       "    }\n",
       "\n",
       "    .dataframe thead th {\n",
       "        text-align: right;\n",
       "    }\n",
       "</style>\n",
       "<table border=\"1\" class=\"dataframe\">\n",
       "  <thead>\n",
       "    <tr style=\"text-align: right;\">\n",
       "      <th></th>\n",
       "      <th>date</th>\n",
       "      <th>delta_confirmed</th>\n",
       "      <th>delta_vaccinated1</th>\n",
       "      <th>delta_vaccinated2</th>\n",
       "    </tr>\n",
       "  </thead>\n",
       "  <tbody>\n",
       "    <tr>\n",
       "      <th>0</th>\n",
       "      <td>2020-04-26</td>\n",
       "      <td>0</td>\n",
       "      <td>0</td>\n",
       "      <td>0</td>\n",
       "    </tr>\n",
       "    <tr>\n",
       "      <th>1</th>\n",
       "      <td>2020-04-27</td>\n",
       "      <td>4</td>\n",
       "      <td>0</td>\n",
       "      <td>0</td>\n",
       "    </tr>\n",
       "    <tr>\n",
       "      <th>2</th>\n",
       "      <td>2020-04-28</td>\n",
       "      <td>5</td>\n",
       "      <td>0</td>\n",
       "      <td>0</td>\n",
       "    </tr>\n",
       "    <tr>\n",
       "      <th>3</th>\n",
       "      <td>2020-04-29</td>\n",
       "      <td>3</td>\n",
       "      <td>0</td>\n",
       "      <td>0</td>\n",
       "    </tr>\n",
       "    <tr>\n",
       "      <th>4</th>\n",
       "      <td>2020-04-30</td>\n",
       "      <td>2</td>\n",
       "      <td>0</td>\n",
       "      <td>0</td>\n",
       "    </tr>\n",
       "    <tr>\n",
       "      <th>...</th>\n",
       "      <td>...</td>\n",
       "      <td>...</td>\n",
       "      <td>...</td>\n",
       "      <td>...</td>\n",
       "    </tr>\n",
       "    <tr>\n",
       "      <th>521</th>\n",
       "      <td>2021-09-29</td>\n",
       "      <td>157</td>\n",
       "      <td>45182</td>\n",
       "      <td>16086</td>\n",
       "    </tr>\n",
       "    <tr>\n",
       "      <th>522</th>\n",
       "      <td>2021-09-30</td>\n",
       "      <td>126</td>\n",
       "      <td>25650</td>\n",
       "      <td>9726</td>\n",
       "    </tr>\n",
       "    <tr>\n",
       "      <th>523</th>\n",
       "      <td>2021-10-01</td>\n",
       "      <td>120</td>\n",
       "      <td>28392</td>\n",
       "      <td>9694</td>\n",
       "    </tr>\n",
       "    <tr>\n",
       "      <th>524</th>\n",
       "      <td>2021-10-02</td>\n",
       "      <td>140</td>\n",
       "      <td>15961</td>\n",
       "      <td>9604</td>\n",
       "    </tr>\n",
       "    <tr>\n",
       "      <th>525</th>\n",
       "      <td>2021-10-03</td>\n",
       "      <td>122</td>\n",
       "      <td>4096</td>\n",
       "      <td>2803</td>\n",
       "    </tr>\n",
       "  </tbody>\n",
       "</table>\n",
       "<p>526 rows × 4 columns</p>\n",
       "</div>"
      ],
      "text/plain": [
       "           date  delta_confirmed  delta_vaccinated1  delta_vaccinated2\n",
       "0    2020-04-26                0                  0                  0\n",
       "1    2020-04-27                4                  0                  0\n",
       "2    2020-04-28                5                  0                  0\n",
       "3    2020-04-29                3                  0                  0\n",
       "4    2020-04-30                2                  0                  0\n",
       "..          ...              ...                ...                ...\n",
       "521  2021-09-29              157              45182              16086\n",
       "522  2021-09-30              126              25650               9726\n",
       "523  2021-10-01              120              28392               9694\n",
       "524  2021-10-02              140              15961               9604\n",
       "525  2021-10-03              122               4096               2803\n",
       "\n",
       "[526 rows x 4 columns]"
      ]
     },
     "execution_count": 101,
     "metadata": {},
     "output_type": "execute_result"
    }
   ],
   "source": [
    "forcasting_data_features_for_VAR\n",
    "# forcasting_train_data_features_for_VAR"
   ]
  },
  {
   "cell_type": "code",
   "execution_count": 102,
   "id": "great-candy",
   "metadata": {},
   "outputs": [
    {
     "name": "stderr",
     "output_type": "stream",
     "text": [
      "<ipython-input-102-1b0de2c1aaa6>:1: SettingWithCopyWarning: \n",
      "A value is trying to be set on a copy of a slice from a DataFrame.\n",
      "Try using .loc[row_indexer,col_indexer] = value instead\n",
      "\n",
      "See the caveats in the documentation: https://pandas.pydata.org/pandas-docs/stable/user_guide/indexing.html#returning-a-view-versus-a-copy\n",
      "  forcasting_data_features_for_VAR['date']=pandas.to_datetime(forcasting_data_features_for_VAR['date'])\n",
      "<ipython-input-102-1b0de2c1aaa6>:2: SettingWithCopyWarning: \n",
      "A value is trying to be set on a copy of a slice from a DataFrame.\n",
      "Try using .loc[row_indexer,col_indexer] = value instead\n",
      "\n",
      "See the caveats in the documentation: https://pandas.pydata.org/pandas-docs/stable/user_guide/indexing.html#returning-a-view-versus-a-copy\n",
      "  forcasting_train_data_features_for_VAR['date']=pandas.to_datetime(forcasting_train_data_features_for_VAR['date'])\n"
     ]
    }
   ],
   "source": [
    "forcasting_data_features_for_VAR['date']=pandas.to_datetime(forcasting_data_features_for_VAR['date'])\n",
    "forcasting_train_data_features_for_VAR['date']=pandas.to_datetime(forcasting_train_data_features_for_VAR['date'])"
   ]
  },
  {
   "cell_type": "code",
   "execution_count": 103,
   "id": "hungarian-shoot",
   "metadata": {},
   "outputs": [
    {
     "data": {
      "text/html": [
       "<div>\n",
       "<style scoped>\n",
       "    .dataframe tbody tr th:only-of-type {\n",
       "        vertical-align: middle;\n",
       "    }\n",
       "\n",
       "    .dataframe tbody tr th {\n",
       "        vertical-align: top;\n",
       "    }\n",
       "\n",
       "    .dataframe thead th {\n",
       "        text-align: right;\n",
       "    }\n",
       "</style>\n",
       "<table border=\"1\" class=\"dataframe\">\n",
       "  <thead>\n",
       "    <tr style=\"text-align: right;\">\n",
       "      <th></th>\n",
       "      <th>date</th>\n",
       "      <th>delta_confirmed</th>\n",
       "      <th>delta_vaccinated1</th>\n",
       "      <th>delta_vaccinated2</th>\n",
       "    </tr>\n",
       "  </thead>\n",
       "  <tbody>\n",
       "    <tr>\n",
       "      <th>0</th>\n",
       "      <td>2020-04-26</td>\n",
       "      <td>0</td>\n",
       "      <td>0</td>\n",
       "      <td>0</td>\n",
       "    </tr>\n",
       "    <tr>\n",
       "      <th>1</th>\n",
       "      <td>2020-04-27</td>\n",
       "      <td>4</td>\n",
       "      <td>0</td>\n",
       "      <td>0</td>\n",
       "    </tr>\n",
       "    <tr>\n",
       "      <th>2</th>\n",
       "      <td>2020-04-28</td>\n",
       "      <td>5</td>\n",
       "      <td>0</td>\n",
       "      <td>0</td>\n",
       "    </tr>\n",
       "    <tr>\n",
       "      <th>3</th>\n",
       "      <td>2020-04-29</td>\n",
       "      <td>3</td>\n",
       "      <td>0</td>\n",
       "      <td>0</td>\n",
       "    </tr>\n",
       "    <tr>\n",
       "      <th>4</th>\n",
       "      <td>2020-04-30</td>\n",
       "      <td>2</td>\n",
       "      <td>0</td>\n",
       "      <td>0</td>\n",
       "    </tr>\n",
       "    <tr>\n",
       "      <th>...</th>\n",
       "      <td>...</td>\n",
       "      <td>...</td>\n",
       "      <td>...</td>\n",
       "      <td>...</td>\n",
       "    </tr>\n",
       "    <tr>\n",
       "      <th>510</th>\n",
       "      <td>2021-09-18</td>\n",
       "      <td>145</td>\n",
       "      <td>21601</td>\n",
       "      <td>8403</td>\n",
       "    </tr>\n",
       "    <tr>\n",
       "      <th>511</th>\n",
       "      <td>2021-09-19</td>\n",
       "      <td>156</td>\n",
       "      <td>6999</td>\n",
       "      <td>5738</td>\n",
       "    </tr>\n",
       "    <tr>\n",
       "      <th>512</th>\n",
       "      <td>2021-09-20</td>\n",
       "      <td>111</td>\n",
       "      <td>13568</td>\n",
       "      <td>6078</td>\n",
       "    </tr>\n",
       "    <tr>\n",
       "      <th>513</th>\n",
       "      <td>2021-09-21</td>\n",
       "      <td>138</td>\n",
       "      <td>32266</td>\n",
       "      <td>13366</td>\n",
       "    </tr>\n",
       "    <tr>\n",
       "      <th>514</th>\n",
       "      <td>2021-09-22</td>\n",
       "      <td>150</td>\n",
       "      <td>14632</td>\n",
       "      <td>7563</td>\n",
       "    </tr>\n",
       "  </tbody>\n",
       "</table>\n",
       "<p>515 rows × 4 columns</p>\n",
       "</div>"
      ],
      "text/plain": [
       "          date  delta_confirmed  delta_vaccinated1  delta_vaccinated2\n",
       "0   2020-04-26                0                  0                  0\n",
       "1   2020-04-27                4                  0                  0\n",
       "2   2020-04-28                5                  0                  0\n",
       "3   2020-04-29                3                  0                  0\n",
       "4   2020-04-30                2                  0                  0\n",
       "..         ...              ...                ...                ...\n",
       "510 2021-09-18              145              21601               8403\n",
       "511 2021-09-19              156               6999               5738\n",
       "512 2021-09-20              111              13568               6078\n",
       "513 2021-09-21              138              32266              13366\n",
       "514 2021-09-22              150              14632               7563\n",
       "\n",
       "[515 rows x 4 columns]"
      ]
     },
     "execution_count": 103,
     "metadata": {},
     "output_type": "execute_result"
    }
   ],
   "source": [
    "# forcasting_data_features_for_VAR\n",
    "forcasting_train_data_features_for_VAR"
   ]
  },
  {
   "cell_type": "code",
   "execution_count": 104,
   "id": "committed-daisy",
   "metadata": {},
   "outputs": [],
   "source": [
    "forcasting_data_features_for_VAR=forcasting_data_features_for_VAR.set_index('date')\n",
    "forcasting_train_data_features_for_VAR=forcasting_train_data_features_for_VAR.set_index('date')"
   ]
  },
  {
   "cell_type": "code",
   "execution_count": 105,
   "id": "nervous-better",
   "metadata": {},
   "outputs": [
    {
     "data": {
      "text/html": [
       "<div>\n",
       "<style scoped>\n",
       "    .dataframe tbody tr th:only-of-type {\n",
       "        vertical-align: middle;\n",
       "    }\n",
       "\n",
       "    .dataframe tbody tr th {\n",
       "        vertical-align: top;\n",
       "    }\n",
       "\n",
       "    .dataframe thead th {\n",
       "        text-align: right;\n",
       "    }\n",
       "</style>\n",
       "<table border=\"1\" class=\"dataframe\">\n",
       "  <thead>\n",
       "    <tr style=\"text-align: right;\">\n",
       "      <th></th>\n",
       "      <th>delta_confirmed</th>\n",
       "      <th>delta_vaccinated1</th>\n",
       "      <th>delta_vaccinated2</th>\n",
       "    </tr>\n",
       "    <tr>\n",
       "      <th>date</th>\n",
       "      <th></th>\n",
       "      <th></th>\n",
       "      <th></th>\n",
       "    </tr>\n",
       "  </thead>\n",
       "  <tbody>\n",
       "    <tr>\n",
       "      <th>2020-04-26</th>\n",
       "      <td>0</td>\n",
       "      <td>0</td>\n",
       "      <td>0</td>\n",
       "    </tr>\n",
       "    <tr>\n",
       "      <th>2020-04-27</th>\n",
       "      <td>4</td>\n",
       "      <td>0</td>\n",
       "      <td>0</td>\n",
       "    </tr>\n",
       "    <tr>\n",
       "      <th>2020-04-28</th>\n",
       "      <td>5</td>\n",
       "      <td>0</td>\n",
       "      <td>0</td>\n",
       "    </tr>\n",
       "    <tr>\n",
       "      <th>2020-04-29</th>\n",
       "      <td>3</td>\n",
       "      <td>0</td>\n",
       "      <td>0</td>\n",
       "    </tr>\n",
       "    <tr>\n",
       "      <th>2020-04-30</th>\n",
       "      <td>2</td>\n",
       "      <td>0</td>\n",
       "      <td>0</td>\n",
       "    </tr>\n",
       "    <tr>\n",
       "      <th>...</th>\n",
       "      <td>...</td>\n",
       "      <td>...</td>\n",
       "      <td>...</td>\n",
       "    </tr>\n",
       "    <tr>\n",
       "      <th>2021-09-18</th>\n",
       "      <td>145</td>\n",
       "      <td>21601</td>\n",
       "      <td>8403</td>\n",
       "    </tr>\n",
       "    <tr>\n",
       "      <th>2021-09-19</th>\n",
       "      <td>156</td>\n",
       "      <td>6999</td>\n",
       "      <td>5738</td>\n",
       "    </tr>\n",
       "    <tr>\n",
       "      <th>2021-09-20</th>\n",
       "      <td>111</td>\n",
       "      <td>13568</td>\n",
       "      <td>6078</td>\n",
       "    </tr>\n",
       "    <tr>\n",
       "      <th>2021-09-21</th>\n",
       "      <td>138</td>\n",
       "      <td>32266</td>\n",
       "      <td>13366</td>\n",
       "    </tr>\n",
       "    <tr>\n",
       "      <th>2021-09-22</th>\n",
       "      <td>150</td>\n",
       "      <td>14632</td>\n",
       "      <td>7563</td>\n",
       "    </tr>\n",
       "  </tbody>\n",
       "</table>\n",
       "<p>515 rows × 3 columns</p>\n",
       "</div>"
      ],
      "text/plain": [
       "            delta_confirmed  delta_vaccinated1  delta_vaccinated2\n",
       "date                                                             \n",
       "2020-04-26                0                  0                  0\n",
       "2020-04-27                4                  0                  0\n",
       "2020-04-28                5                  0                  0\n",
       "2020-04-29                3                  0                  0\n",
       "2020-04-30                2                  0                  0\n",
       "...                     ...                ...                ...\n",
       "2021-09-18              145              21601               8403\n",
       "2021-09-19              156               6999               5738\n",
       "2021-09-20              111              13568               6078\n",
       "2021-09-21              138              32266              13366\n",
       "2021-09-22              150              14632               7563\n",
       "\n",
       "[515 rows x 3 columns]"
      ]
     },
     "execution_count": 105,
     "metadata": {},
     "output_type": "execute_result"
    }
   ],
   "source": [
    "# forcasting_data_features_for_VAR\n",
    "forcasting_train_data_features_for_VAR"
   ]
  },
  {
   "cell_type": "code",
   "execution_count": 106,
   "id": "coastal-galaxy",
   "metadata": {},
   "outputs": [
    {
     "name": "stderr",
     "output_type": "stream",
     "text": [
      "C:\\Users\\Pankaj singh\\AppData\\Roaming\\Python\\Python39\\site-packages\\statsmodels\\tsa\\base\\tsa_model.py:524: ValueWarning: No frequency information was provided, so inferred frequency D will be used.\n",
      "  warnings.warn('No frequency information was'\n",
      "C:\\Users\\Pankaj singh\\AppData\\Roaming\\Python\\Python39\\site-packages\\statsmodels\\tsa\\base\\tsa_model.py:524: ValueWarning: No frequency information was provided, so inferred frequency D will be used.\n",
      "  warnings.warn('No frequency information was'\n"
     ]
    }
   ],
   "source": [
    "main_var_model=VAR(forcasting_data_features_for_VAR)\n",
    "main_var_train_model=VAR(forcasting_train_data_features_for_VAR)"
   ]
  },
  {
   "cell_type": "code",
   "execution_count": 107,
   "id": "caring-utilization",
   "metadata": {},
   "outputs": [],
   "source": [
    "main_var_model_fit=main_var_model.fit()\n",
    "main_var_train_model_fit=main_var_train_model.fit()"
   ]
  },
  {
   "cell_type": "code",
   "execution_count": 108,
   "id": "figured-desert",
   "metadata": {},
   "outputs": [],
   "source": [
    "# main_var_train_model_fit.plot()"
   ]
  },
  {
   "cell_type": "code",
   "execution_count": null,
   "id": "aging-grenada",
   "metadata": {},
   "outputs": [],
   "source": []
  },
  {
   "cell_type": "code",
   "execution_count": 109,
   "id": "compatible-occasion",
   "metadata": {},
   "outputs": [
    {
     "name": "stderr",
     "output_type": "stream",
     "text": [
      "<ipython-input-109-2bd438d2e6bb>:1: FutureWarning: y is a deprecated alias for endog, will be removed in version 0.11.0\n",
      "  var_model_forcast=main_var_model_fit.forecast(main_var_model.y,steps=7)\n"
     ]
    }
   ],
   "source": [
    "var_model_forcast=main_var_model_fit.forecast(main_var_model.y,steps=7)"
   ]
  },
  {
   "cell_type": "code",
   "execution_count": 110,
   "id": "thermal-iraqi",
   "metadata": {},
   "outputs": [],
   "source": [
    "var_model_forcast_data=pandas.DataFrame(var_model_forcast)"
   ]
  },
  {
   "cell_type": "code",
   "execution_count": 111,
   "id": "flying-acceptance",
   "metadata": {},
   "outputs": [
    {
     "data": {
      "text/html": [
       "<div>\n",
       "<style scoped>\n",
       "    .dataframe tbody tr th:only-of-type {\n",
       "        vertical-align: middle;\n",
       "    }\n",
       "\n",
       "    .dataframe tbody tr th {\n",
       "        vertical-align: top;\n",
       "    }\n",
       "\n",
       "    .dataframe thead th {\n",
       "        text-align: right;\n",
       "    }\n",
       "</style>\n",
       "<table border=\"1\" class=\"dataframe\">\n",
       "  <thead>\n",
       "    <tr style=\"text-align: right;\">\n",
       "      <th></th>\n",
       "      <th>0</th>\n",
       "      <th>1</th>\n",
       "      <th>2</th>\n",
       "    </tr>\n",
       "  </thead>\n",
       "  <tbody>\n",
       "    <tr>\n",
       "      <th>0</th>\n",
       "      <td>136.823286</td>\n",
       "      <td>3893.409058</td>\n",
       "      <td>2142.133839</td>\n",
       "    </tr>\n",
       "    <tr>\n",
       "      <th>1</th>\n",
       "      <td>153.840091</td>\n",
       "      <td>3550.610839</td>\n",
       "      <td>1744.256164</td>\n",
       "    </tr>\n",
       "    <tr>\n",
       "      <th>2</th>\n",
       "      <td>170.726987</td>\n",
       "      <td>3269.201191</td>\n",
       "      <td>1509.831733</td>\n",
       "    </tr>\n",
       "    <tr>\n",
       "      <th>3</th>\n",
       "      <td>186.679600</td>\n",
       "      <td>3079.440216</td>\n",
       "      <td>1373.740039</td>\n",
       "    </tr>\n",
       "    <tr>\n",
       "      <th>4</th>\n",
       "      <td>201.475710</td>\n",
       "      <td>2964.286750</td>\n",
       "      <td>1295.590532</td>\n",
       "    </tr>\n",
       "    <tr>\n",
       "      <th>5</th>\n",
       "      <td>215.107033</td>\n",
       "      <td>2900.210043</td>\n",
       "      <td>1251.112583</td>\n",
       "    </tr>\n",
       "    <tr>\n",
       "      <th>6</th>\n",
       "      <td>227.637314</td>\n",
       "      <td>2868.277332</td>\n",
       "      <td>1226.013062</td>\n",
       "    </tr>\n",
       "  </tbody>\n",
       "</table>\n",
       "</div>"
      ],
      "text/plain": [
       "            0            1            2\n",
       "0  136.823286  3893.409058  2142.133839\n",
       "1  153.840091  3550.610839  1744.256164\n",
       "2  170.726987  3269.201191  1509.831733\n",
       "3  186.679600  3079.440216  1373.740039\n",
       "4  201.475710  2964.286750  1295.590532\n",
       "5  215.107033  2900.210043  1251.112583\n",
       "6  227.637314  2868.277332  1226.013062"
      ]
     },
     "execution_count": 111,
     "metadata": {},
     "output_type": "execute_result"
    }
   ],
   "source": [
    "var_model_forcast_data"
   ]
  },
  {
   "cell_type": "code",
   "execution_count": 112,
   "id": "auburn-accounting",
   "metadata": {},
   "outputs": [],
   "source": [
    "pyplot.figure('VAR model Forcasting')\n",
    "pyplot.plot(maindata['date'],maindata_labels,label='Original Data')\n",
    "pyplot.plot(maindata['date'],maindata['delta_vaccinated1'],label='Original Data')\n",
    "pyplot.plot(daterange,var_model_forcast_data[0],label='VAR Future Confirmed Prediction')\n",
    "pyplot.plot(daterange,var_model_forcast_data[1],label='VAR Future Vaccinated1 Prediction')\n",
    "\n",
    "pyplot.legend()\n",
    "pyplot.show()"
   ]
  },
  {
   "cell_type": "code",
   "execution_count": null,
   "id": "circular-encyclopedia",
   "metadata": {},
   "outputs": [],
   "source": []
  }
 ],
 "metadata": {
  "kernelspec": {
   "display_name": "Python 3",
   "language": "python",
   "name": "python3"
  },
  "language_info": {
   "codemirror_mode": {
    "name": "ipython",
    "version": 3
   },
   "file_extension": ".py",
   "mimetype": "text/x-python",
   "name": "python",
   "nbconvert_exporter": "python",
   "pygments_lexer": "ipython3",
   "version": "3.9.2"
  }
 },
 "nbformat": 4,
 "nbformat_minor": 5
}
